{
 "cells": [
  {
   "cell_type": "markdown",
   "metadata": {},
   "source": [
    "# Spatial query to find all cities that are within 10 kms of a river."
   ]
  },
  {
   "cell_type": "markdown",
   "metadata": {},
   "source": [
    "# Reading projected river and populated shapefiles"
   ]
  },
  {
   "cell_type": "code",
   "execution_count": null,
   "metadata": {},
   "outputs": [],
   "source": [
    "import geopandas as gpd\n",
    "import pandas as pd\n",
    "import matplotlib.pyplot as plt\n",
    "from shapely.geometry import Point, Polygon\n",
    "fp1 = r\"C:\\Users\\Shalini MS\\Downloads\\lab7\\projected_population.shp\"\n",
    "fp2 =r\"C:\\Users\\Shalini MS\\Downloads\\lab7\\projected_rivers.shp\"\n",
    "# Reading projected shape files\n",
    "places = gpd.read_file(fp1)\n",
    "river = gpd.read_file(fp2)\n",
    "places= places[[\"nameascii\",\"geometry\"]]\n",
    "river = river[[\"name\",\"geometry\"]]"
   ]
  },
  {
   "cell_type": "markdown",
   "metadata": {},
   "source": [
    "# Checking whether the type is Geodataframe and coordinate reference system"
   ]
  },
  {
   "cell_type": "code",
   "execution_count": null,
   "metadata": {},
   "outputs": [],
   "source": [
    "type(river)\n",
    "type(places)\n",
    "places.crs # ESRI:54032- world_AZIMUTHAL_Equidistant\n",
    "river.crs # ESRI:54032- world_AZIMUTHAL_Equidistant\n",
    "# To check crs is same\n",
    "print(places.crs)\n",
    "print(river.crs)\n",
    "places.crs == river.crs"
   ]
  },
  {
   "cell_type": "markdown",
   "metadata": {},
   "source": [
    "# Buffering and plotting"
   ]
  },
  {
   "cell_type": "code",
   "execution_count": null,
   "metadata": {},
   "outputs": [],
   "source": [
    "river['geometry']= river.buffer(10000)\n",
    "river.plot(alpha=0.3,edgecolor=\"k\")\n",
    "places_inter = gpd.overlay(places, river, how='intersection')\n",
    "print(places_inter)\n",
    "# ploting\n",
    "places_inter.plot(alpha=1, edgecolor='k', cmap='tab10')\n",
    "# Add title\n",
    "plt.title(\"Places within 10km of rivers-buffer analysis\")\n",
    "# Remove white space around the figure\n",
    "plt.tight_layout()\n",
    "len(places_inter)\n",
    "len(places)"
   ]
  },
  {
   "cell_type": "markdown",
   "metadata": {},
   "source": [
    "# Saving intersection to kml file"
   ]
  },
  {
   "cell_type": "code",
   "execution_count": null,
   "metadata": {},
   "outputs": [],
   "source": [
    "outfp=r\"C:\\Users\\Shalini MS\\Downloads\\lab7\\places_inter.kml\"\n",
    "places_inter.to_file(outfp)\n",
    "fp=r\"C:\\Users\\Shalini MS\\Downloads\\lab7\\places_inter.kml\"\n",
    "op=gpd.read_file(fp)\n",
    "print(op.head())"
   ]
  }
 ],
 "metadata": {
  "kernelspec": {
   "display_name": "Python 3",
   "language": "python",
   "name": "python3"
  },
  "language_info": {
   "codemirror_mode": {
    "name": "ipython",
    "version": 3
   },
   "file_extension": ".py",
   "mimetype": "text/x-python",
   "name": "python",
   "nbconvert_exporter": "python",
   "pygments_lexer": "ipython3",
   "version": "3.7.3"
  }
 },
 "nbformat": 4,
 "nbformat_minor": 2
}
