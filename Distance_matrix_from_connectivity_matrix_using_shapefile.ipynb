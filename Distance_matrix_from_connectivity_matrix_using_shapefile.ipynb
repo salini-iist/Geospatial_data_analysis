{
 "cells": [
  {
   "cell_type": "markdown",
   "metadata": {
    "id": "hPuny1jvxi_5"
   },
   "source": [
    "NETWORK_DATA"
   ]
  },
  {
   "cell_type": "code",
   "execution_count": null,
   "metadata": {},
   "outputs": [],
   "source": [
    " Explore the shape file given\n",
    "\n",
    "Use NetworkX of Python to do the following \n",
    "\n",
    "Use the connectivity matrix to draw the graph (get an output of the graph)\n",
    "\n",
    "Derive the distance matrix for the given connectivity matrix using the shape file (as per the coordinates given)."
   ]
  },
  {
   "cell_type": "markdown",
   "metadata": {
    "id": "L5vEtMcn6KSK"
   },
   "source": [
    "Explore the shape file given"
   ]
  },
  {
   "cell_type": "code",
   "execution_count": null,
   "metadata": {
    "colab": {
     "base_uri": "https://localhost:8080/",
     "height": 206
    },
    "id": "PBUePzTLxc9P",
    "outputId": "91c5c10c-e154-405d-fd89-4b73c5bc69de"
   },
   "outputs": [
    {
     "data": {
      "text/html": [
       "\n",
       "  <div id=\"df-a4b7aa73-b112-4258-979e-522a50f133cf\">\n",
       "    <div class=\"colab-df-container\">\n",
       "      <div>\n",
       "<style scoped>\n",
       "    .dataframe tbody tr th:only-of-type {\n",
       "        vertical-align: middle;\n",
       "    }\n",
       "\n",
       "    .dataframe tbody tr th {\n",
       "        vertical-align: top;\n",
       "    }\n",
       "\n",
       "    .dataframe thead th {\n",
       "        text-align: right;\n",
       "    }\n",
       "</style>\n",
       "<table border=\"1\" class=\"dataframe\">\n",
       "  <thead>\n",
       "    <tr style=\"text-align: right;\">\n",
       "      <th></th>\n",
       "      <th>id</th>\n",
       "      <th>x</th>\n",
       "      <th>y</th>\n",
       "      <th>geometry</th>\n",
       "    </tr>\n",
       "  </thead>\n",
       "  <tbody>\n",
       "    <tr>\n",
       "      <th>0</th>\n",
       "      <td>1</td>\n",
       "      <td>74.571</td>\n",
       "      <td>16.780</td>\n",
       "      <td>POINT (454294.076 1855242.105)</td>\n",
       "    </tr>\n",
       "    <tr>\n",
       "      <th>1</th>\n",
       "      <td>2</td>\n",
       "      <td>74.439</td>\n",
       "      <td>15.392</td>\n",
       "      <td>POINT (439794.765 1701787.921)</td>\n",
       "    </tr>\n",
       "    <tr>\n",
       "      <th>2</th>\n",
       "      <td>3</td>\n",
       "      <td>73.811</td>\n",
       "      <td>15.310</td>\n",
       "      <td>POINT (372380.094 1692923.993)</td>\n",
       "    </tr>\n",
       "    <tr>\n",
       "      <th>3</th>\n",
       "      <td>4</td>\n",
       "      <td>75.149</td>\n",
       "      <td>15.293</td>\n",
       "      <td>POINT (516023.380 1690752.861)</td>\n",
       "    </tr>\n",
       "    <tr>\n",
       "      <th>4</th>\n",
       "      <td>5</td>\n",
       "      <td>75.695</td>\n",
       "      <td>15.376</td>\n",
       "      <td>POINT (574517.841 1700002.347)</td>\n",
       "    </tr>\n",
       "  </tbody>\n",
       "</table>\n",
       "</div>\n",
       "      <button class=\"colab-df-convert\" onclick=\"convertToInteractive('df-a4b7aa73-b112-4258-979e-522a50f133cf')\"\n",
       "              title=\"Convert this dataframe to an interactive table.\"\n",
       "              style=\"display:none;\">\n",
       "        \n",
       "  <svg xmlns=\"http://www.w3.org/2000/svg\" height=\"24px\"viewBox=\"0 0 24 24\"\n",
       "       width=\"24px\">\n",
       "    <path d=\"M0 0h24v24H0V0z\" fill=\"none\"/>\n",
       "    <path d=\"M18.56 5.44l.94 2.06.94-2.06 2.06-.94-2.06-.94-.94-2.06-.94 2.06-2.06.94zm-11 1L8.5 8.5l.94-2.06 2.06-.94-2.06-.94L8.5 2.5l-.94 2.06-2.06.94zm10 10l.94 2.06.94-2.06 2.06-.94-2.06-.94-.94-2.06-.94 2.06-2.06.94z\"/><path d=\"M17.41 7.96l-1.37-1.37c-.4-.4-.92-.59-1.43-.59-.52 0-1.04.2-1.43.59L10.3 9.45l-7.72 7.72c-.78.78-.78 2.05 0 2.83L4 21.41c.39.39.9.59 1.41.59.51 0 1.02-.2 1.41-.59l7.78-7.78 2.81-2.81c.8-.78.8-2.07 0-2.86zM5.41 20L4 18.59l7.72-7.72 1.47 1.35L5.41 20z\"/>\n",
       "  </svg>\n",
       "      </button>\n",
       "      \n",
       "  <style>\n",
       "    .colab-df-container {\n",
       "      display:flex;\n",
       "      flex-wrap:wrap;\n",
       "      gap: 12px;\n",
       "    }\n",
       "\n",
       "    .colab-df-convert {\n",
       "      background-color: #E8F0FE;\n",
       "      border: none;\n",
       "      border-radius: 50%;\n",
       "      cursor: pointer;\n",
       "      display: none;\n",
       "      fill: #1967D2;\n",
       "      height: 32px;\n",
       "      padding: 0 0 0 0;\n",
       "      width: 32px;\n",
       "    }\n",
       "\n",
       "    .colab-df-convert:hover {\n",
       "      background-color: #E2EBFA;\n",
       "      box-shadow: 0px 1px 2px rgba(60, 64, 67, 0.3), 0px 1px 3px 1px rgba(60, 64, 67, 0.15);\n",
       "      fill: #174EA6;\n",
       "    }\n",
       "\n",
       "    [theme=dark] .colab-df-convert {\n",
       "      background-color: #3B4455;\n",
       "      fill: #D2E3FC;\n",
       "    }\n",
       "\n",
       "    [theme=dark] .colab-df-convert:hover {\n",
       "      background-color: #434B5C;\n",
       "      box-shadow: 0px 1px 3px 1px rgba(0, 0, 0, 0.15);\n",
       "      filter: drop-shadow(0px 1px 2px rgba(0, 0, 0, 0.3));\n",
       "      fill: #FFFFFF;\n",
       "    }\n",
       "  </style>\n",
       "\n",
       "      <script>\n",
       "        const buttonEl =\n",
       "          document.querySelector('#df-a4b7aa73-b112-4258-979e-522a50f133cf button.colab-df-convert');\n",
       "        buttonEl.style.display =\n",
       "          google.colab.kernel.accessAllowed ? 'block' : 'none';\n",
       "\n",
       "        async function convertToInteractive(key) {\n",
       "          const element = document.querySelector('#df-a4b7aa73-b112-4258-979e-522a50f133cf');\n",
       "          const dataTable =\n",
       "            await google.colab.kernel.invokeFunction('convertToInteractive',\n",
       "                                                     [key], {});\n",
       "          if (!dataTable) return;\n",
       "\n",
       "          const docLinkHtml = 'Like what you see? Visit the ' +\n",
       "            '<a target=\"_blank\" href=https://colab.research.google.com/notebooks/data_table.ipynb>data table notebook</a>'\n",
       "            + ' to learn more about interactive tables.';\n",
       "          element.innerHTML = '';\n",
       "          dataTable['output_type'] = 'display_data';\n",
       "          await google.colab.output.renderOutput(dataTable, element);\n",
       "          const docLink = document.createElement('div');\n",
       "          docLink.innerHTML = docLinkHtml;\n",
       "          element.appendChild(docLink);\n",
       "        }\n",
       "      </script>\n",
       "    </div>\n",
       "  </div>\n",
       "  "
      ],
      "text/plain": [
       "   id       x       y                        geometry\n",
       "0   1  74.571  16.780  POINT (454294.076 1855242.105)\n",
       "1   2  74.439  15.392  POINT (439794.765 1701787.921)\n",
       "2   3  73.811  15.310  POINT (372380.094 1692923.993)\n",
       "3   4  75.149  15.293  POINT (516023.380 1690752.861)\n",
       "4   5  75.695  15.376  POINT (574517.841 1700002.347)"
      ]
     },
     "execution_count": 3,
     "metadata": {},
     "output_type": "execute_result"
    }
   ],
   "source": [
    "import geopandas as gpd\n",
    "network = gpd.read_file('/content/repro_network.shp')\n",
    "network.head()"
   ]
  },
  {
   "cell_type": "code",
   "execution_count": null,
   "metadata": {
    "colab": {
     "base_uri": "https://localhost:8080/",
     "height": 307
    },
    "id": "xU_N69hHyE2d",
    "outputId": "79f8e716-ed89-484f-dff6-11324c80969f"
   },
   "outputs": [
    {
     "data": {
      "text/plain": [
       "<matplotlib.axes._subplots.AxesSubplot at 0x7feea4f0dfd0>"
      ]
     },
     "execution_count": 4,
     "metadata": {},
     "output_type": "execute_result"
    },
    {
     "data": {
      "image/png": "[encoded data removed]",
      "text/plain": [
       "<Figure size 432x288 with 1 Axes>"
      ]
     },
     "metadata": {
      "needs_background": "light"
     },
     "output_type": "display_data"
    }
   ],
   "source": [
    "network.plot()"
   ]
  },
  {
   "cell_type": "code",
   "execution_count": null,
   "metadata": {
    "colab": {
     "base_uri": "https://localhost:8080/"
    },
    "id": "sQYSwa4_yh55",
    "outputId": "3bfd7adb-4a5f-4306-ea54-faaec4e34e4b"
   },
   "outputs": [
    {
     "data": {
      "text/plain": [
       "<Projected CRS: EPSG:32243>\n",
       "Name: WGS 72 / UTM zone 43N\n",
       "Axis Info [cartesian]:\n",
       "- E[east]: Easting (metre)\n",
       "- N[north]: Northing (metre)\n",
       "Area of Use:\n",
       "- name: Between 72°E and 78°E, northern hemisphere between equator and 84°N, onshore and offshore.\n",
       "- bounds: (72.0, 0.0, 78.0, 84.0)\n",
       "Coordinate Operation:\n",
       "- name: UTM zone 43N\n",
       "- method: Transverse Mercator\n",
       "Datum: World Geodetic System 1972\n",
       "- Ellipsoid: WGS 72\n",
       "- Prime Meridian: Greenwich"
      ]
     },
     "execution_count": 5,
     "metadata": {},
     "output_type": "execute_result"
    }
   ],
   "source": [
    "network.crs"
   ]
  },
  {
   "cell_type": "code",
   "execution_count": null,
   "metadata": {
    "colab": {
     "base_uri": "https://localhost:8080/"
    },
    "id": "YRh0NsAZykt8",
    "outputId": "04e1502a-531c-4c0c-a330-37c4c9b6912f"
   },
   "outputs": [
    {
     "data": {
      "text/plain": [
       "0    POINT (454294.076 1855242.105)\n",
       "1    POINT (439794.765 1701787.921)\n",
       "2    POINT (372380.094 1692923.993)\n",
       "3    POINT (516023.380 1690752.861)\n",
       "4    POINT (574517.841 1700002.347)\n",
       "Name: geometry, dtype: geometry"
      ]
     },
     "execution_count": 6,
     "metadata": {},
     "output_type": "execute_result"
    }
   ],
   "source": [
    "network['geometry'].head()"
   ]
  },
  {
   "cell_type": "code",
   "execution_count": null,
   "metadata": {
    "id": "pyhEbBCgyp8a"
   },
   "outputs": [],
   "source": []
  },
  {
   "cell_type": "markdown",
   "metadata": {
    "id": "MfsOp9AJx-RW"
   },
   "source": [
    "Use NetworkX of Python to do the following \n",
    "\n",
    "Use the connectivity matrix to draw the graph (get an output of the graph)"
   ]
  },
  {
   "cell_type": "code",
   "execution_count": null,
   "metadata": {
    "id": "KPoQhnmEWkB6"
   },
   "outputs": [],
   "source": [
    "import numpy as np\n",
    "import networkx as nx\n",
    "import matplotlib.pyplot as plt\n",
    "from numpy import genfromtxt\n",
    "import numpy as np\n",
    "\n",
    "mydata = genfromtxt(r\"/content/Updated Connectivity matrix.csv\", delimiter=',')"
   ]
  },
  {
   "cell_type": "code",
   "execution_count": null,
   "metadata": {
    "colab": {
     "base_uri": "https://localhost:8080/"
    },
    "id": "GOyg434dWu1x",
    "outputId": "7926c950-a29e-41e6-b2c8-47e75876d81e"
   },
   "outputs": [
    {
     "name": "stdout",
     "output_type": "stream",
     "text": [
      "[[ 1. nan  1. ... nan nan nan]\n",
      " [ 2.  1. nan ... nan nan nan]\n",
      " [ 3. nan  1. ... nan nan  1.]\n",
      " ...\n",
      " [34. nan nan ... nan nan nan]\n",
      " [35. nan nan ... nan nan nan]\n",
      " [36. nan nan ... nan nan nan]]\n",
      "<class 'numpy.ndarray'>\n"
     ]
    }
   ],
   "source": [
    "print(mydata)\n",
    "print(type(mydata))"
   ]
  },
  {
   "cell_type": "code",
   "execution_count": null,
   "metadata": {
    "colab": {
     "base_uri": "https://localhost:8080/"
    },
    "id": "0y9WfibJWyEl",
    "outputId": "d14bd7cb-a8ee-4d3d-def3-f75f4d0fe6e5"
   },
   "outputs": [
    {
     "name": "stdout",
     "output_type": "stream",
     "text": [
      "[[nan  1. nan ... nan nan nan]\n",
      " [ 1. nan  1. ... nan nan nan]\n",
      " [nan  1. nan ... nan nan  1.]\n",
      " ...\n",
      " [nan nan nan ... nan nan nan]\n",
      " [nan nan nan ... nan nan nan]\n",
      " [nan nan  1. ... nan nan nan]]\n"
     ]
    }
   ],
   "source": [
    "adjacency = mydata[:,1:]\n",
    "print(adjacency)"
   ]
  },
  {
   "cell_type": "code",
   "execution_count": null,
   "metadata": {
    "colab": {
     "base_uri": "https://localhost:8080/"
    },
    "id": "RafewOR5W2WK",
    "outputId": "d5e0aaa5-7acd-4a3e-916e-d03337157805"
   },
   "outputs": [
    {
     "name": "stdout",
     "output_type": "stream",
     "text": [
      "output  number :  [[0. 1. 0. ... 0. 0. 0.]\n",
      " [1. 0. 1. ... 0. 0. 0.]\n",
      " [0. 1. 0. ... 0. 0. 1.]\n",
      " ...\n",
      " [0. 0. 0. ... 0. 0. 0.]\n",
      " [0. 0. 0. ... 0. 0. 0.]\n",
      " [0. 0. 1. ... 0. 0. 0.]]\n"
     ]
    }
   ],
   "source": [
    "out_num = np.nan_to_num(adjacency) \n",
    "print (\"output  number : \", out_num) "
   ]
  },
  {
   "cell_type": "code",
   "execution_count": null,
   "metadata": {
    "colab": {
     "base_uri": "https://localhost:8080/"
    },
    "id": "mXLfHhKOcWuy",
    "outputId": "72acc763-b616-43fe-b4f0-a19576767f63"
   },
   "outputs": [
    {
     "data": {
      "text/plain": [
       "(36, 36)"
      ]
     },
     "execution_count": 11,
     "metadata": {},
     "output_type": "execute_result"
    }
   ],
   "source": [
    "out_num.shape"
   ]
  },
  {
   "cell_type": "code",
   "execution_count": null,
   "metadata": {
    "colab": {
     "base_uri": "https://localhost:8080/",
     "height": 319
    },
    "id": "J0AJURaZW-fo",
    "outputId": "9d573637-608e-4afd-d6ac-633b50576af6"
   },
   "outputs": [
    {
     "data": {
      "image/png": "[encoded data removed]",
      "text/plain": [
       "<Figure size 432x288 with 1 Axes>"
      ]
     },
     "metadata": {},
     "output_type": "display_data"
    }
   ],
   "source": [
    "G = nx.from_numpy_matrix(np.array(out_num))  \n",
    "nx.draw(G, with_labels=True) "
   ]
  },
  {
   "cell_type": "markdown",
   "metadata": {
    "id": "G29hgA9g0VjO"
   },
   "source": [
    "Derive the distance matrix for the given connectivity matrix using the shape file (as per the coordinates given)."
   ]
  },
  {
   "cell_type": "code",
   "execution_count": null,
   "metadata": {
    "colab": {
     "base_uri": "https://localhost:8080/"
    },
    "id": "uHpAIEv_ZbB9",
    "outputId": "b0053ab0-0a0f-45f2-b5c1-b50ecf2dfb0f"
   },
   "outputs": [
    {
     "name": "stdout",
     "output_type": "stream",
     "text": [
      "[ 454294.07574028 1855242.10531839]\n",
      "[ 439794.7654374  1701787.92064359]\n",
      "[ 372380.09417693 1692923.99306029]\n",
      "[ 516023.37981259 1690752.86113823]\n",
      "[ 574517.84105464 1700002.347056  ]\n",
      "[ 596541.09660564 1928516.60606049]\n",
      "[ 605503.9301971  1500959.39616426]\n",
      "[ 558949.95338375 1539179.1078344 ]\n",
      "[ 650885.49420654 1680269.93890255]\n",
      "[ 626330.38954885 1625303.68404402]\n",
      "[ 697108.07806895 1671472.67793329]\n",
      "[ 699338.28475329 1616653.25631665]\n",
      "[ 748648.6522846  1668302.20522788]\n",
      "[ 707594.84398052 1878152.21253373]\n",
      "[ 786907.8937716  1588261.72862227]\n",
      "[ 776076.89275404 1430878.44920143]\n",
      "[ 886190.5486833  1382776.62427128]\n",
      "[ 942135.00457785 1484305.74437783]\n",
      "[ 986554.79554884 1507065.92923607]\n",
      "[1070936.98938012 1802341.64737674]\n",
      "[1105300.48724195 1841827.17555217]\n",
      "[1042574.72805553 1939213.13022914]\n",
      "[1172511.76342237 1845674.93787413]\n",
      "[1021327.19034222 1560897.94632256]\n",
      "[1062999.21749677 1453559.40120258]\n",
      "[1000288.24616253 1443178.03541043]\n",
      "[1044685.95354425 1378006.326569  ]\n",
      "[ 987872.7091654  1327522.05681104]\n",
      "[ 722077.32439015 1214722.65658246]\n",
      "[ 659035.88436743 1183297.81184777]\n",
      "[ 525179.19459409 1394810.48333534]\n",
      "[ 610266.55901865 1179449.80816414]\n",
      "[ 664876.57312146 1093803.30912806]\n",
      "[ 795809.28694284 1250045.55394583]\n",
      "[ 908584.9756035  1183567.42644327]\n",
      "[ 829813.11196554 1093090.51496752]\n"
     ]
    }
   ],
   "source": [
    "import fiona\n",
    "from shapely.geometry import shape\n",
    "import numpy as np\n",
    "\n",
    "path = '/content/repro_network.shp' #your points\n",
    "\n",
    "points = fiona.open(path)\n",
    "\n",
    "geoms = [ shape(feat[\"geometry\"]) for feat in points ]\n",
    "\n",
    "list_arrays = [ np.array((geom.xy[0][0], geom.xy[1][0])) for geom in geoms ]\n",
    "\n",
    "for array in list_arrays:\n",
    "    print(array)"
   ]
  },
  {
   "cell_type": "code",
   "execution_count": null,
   "metadata": {
    "id": "SWZQG013xyO5"
   },
   "outputs": [],
   "source": []
  },
  {
   "cell_type": "code",
   "execution_count": null,
   "metadata": {
    "colab": {
     "base_uri": "https://localhost:8080/"
    },
    "id": "Jdd-TuvkZYlo",
    "outputId": "52566c95-1a04-4428-b68b-675a46af9e0b"
   },
   "outputs": [
    {
     "data": {
      "text/plain": [
       "[array([ 454294.07574028, 1855242.10531839]),\n",
       " array([ 439794.7654374 , 1701787.92064359]),\n",
       " array([ 372380.09417693, 1692923.99306029]),\n",
       " array([ 516023.37981259, 1690752.86113823]),\n",
       " array([ 574517.84105464, 1700002.347056  ]),\n",
       " array([ 596541.09660564, 1928516.60606049]),\n",
       " array([ 605503.9301971 , 1500959.39616426]),\n",
       " array([ 558949.95338375, 1539179.1078344 ]),\n",
       " array([ 650885.49420654, 1680269.93890255]),\n",
       " array([ 626330.38954885, 1625303.68404402]),\n",
       " array([ 697108.07806895, 1671472.67793329]),\n",
       " array([ 699338.28475329, 1616653.25631665]),\n",
       " array([ 748648.6522846 , 1668302.20522788]),\n",
       " array([ 707594.84398052, 1878152.21253373]),\n",
       " array([ 786907.8937716 , 1588261.72862227]),\n",
       " array([ 776076.89275404, 1430878.44920143]),\n",
       " array([ 886190.5486833 , 1382776.62427128]),\n",
       " array([ 942135.00457785, 1484305.74437783]),\n",
       " array([ 986554.79554884, 1507065.92923607]),\n",
       " array([1070936.98938012, 1802341.64737674]),\n",
       " array([1105300.48724195, 1841827.17555217]),\n",
       " array([1042574.72805553, 1939213.13022914]),\n",
       " array([1172511.76342237, 1845674.93787413]),\n",
       " array([1021327.19034222, 1560897.94632256]),\n",
       " array([1062999.21749677, 1453559.40120258]),\n",
       " array([1000288.24616253, 1443178.03541043]),\n",
       " array([1044685.95354425, 1378006.326569  ]),\n",
       " array([ 987872.7091654 , 1327522.05681104]),\n",
       " array([ 722077.32439015, 1214722.65658246]),\n",
       " array([ 659035.88436743, 1183297.81184777]),\n",
       " array([ 525179.19459409, 1394810.48333534]),\n",
       " array([ 610266.55901865, 1179449.80816414]),\n",
       " array([ 664876.57312146, 1093803.30912806]),\n",
       " array([ 795809.28694284, 1250045.55394583]),\n",
       " array([ 908584.9756035 , 1183567.42644327]),\n",
       " array([ 829813.11196554, 1093090.51496752])]"
      ]
     },
     "execution_count": 15,
     "metadata": {},
     "output_type": "execute_result"
    }
   ],
   "source": [
    "list_arrays"
   ]
  },
  {
   "cell_type": "code",
   "execution_count": null,
   "metadata": {
    "id": "7m8OLYpvaI9T"
   },
   "outputs": [],
   "source": [
    "array1d=np.stack( list_arrays, axis=0 )"
   ]
  },
  {
   "cell_type": "code",
   "execution_count": null,
   "metadata": {
    "colab": {
     "base_uri": "https://localhost:8080/"
    },
    "id": "byVQ-1ZrJx8N",
    "outputId": "28df8ab7-ecdc-48be-d1fb-4ea472f72d25"
   },
   "outputs": [
    {
     "data": {
      "text/plain": [
       "(36, 2)"
      ]
     },
     "execution_count": 17,
     "metadata": {},
     "output_type": "execute_result"
    }
   ],
   "source": [
    "array1d.shape"
   ]
  },
  {
   "cell_type": "code",
   "execution_count": null,
   "metadata": {
    "id": "5EomIrLoHnsa"
   },
   "outputs": [],
   "source": [
    "arr_2d = array1d.reshape(-1,2)"
   ]
  },
  {
   "cell_type": "code",
   "execution_count": null,
   "metadata": {
    "colab": {
     "base_uri": "https://localhost:8080/"
    },
    "id": "ow0J_OdzByLT",
    "outputId": "a31fb9fe-1f49-4bfd-cb9f-9af53dfbda0b"
   },
   "outputs": [
    {
     "name": "stdout",
     "output_type": "stream",
     "text": [
      "[[ 454294.07574028 1855242.10531839]\n",
      " [ 439794.7654374  1701787.92064359]\n",
      " [ 372380.09417693 1692923.99306029]\n",
      " [ 516023.37981259 1690752.86113823]\n",
      " [ 574517.84105464 1700002.347056  ]\n",
      " [ 596541.09660564 1928516.60606049]\n",
      " [ 605503.9301971  1500959.39616426]\n",
      " [ 558949.95338375 1539179.1078344 ]\n",
      " [ 650885.49420654 1680269.93890255]\n",
      " [ 626330.38954885 1625303.68404402]\n",
      " [ 697108.07806895 1671472.67793329]\n",
      " [ 699338.28475329 1616653.25631665]\n",
      " [ 748648.6522846  1668302.20522788]\n",
      " [ 707594.84398052 1878152.21253373]\n",
      " [ 786907.8937716  1588261.72862227]\n",
      " [ 776076.89275404 1430878.44920143]\n",
      " [ 886190.5486833  1382776.62427128]\n",
      " [ 942135.00457785 1484305.74437783]\n",
      " [ 986554.79554884 1507065.92923607]\n",
      " [1070936.98938012 1802341.64737674]\n",
      " [1105300.48724195 1841827.17555217]\n",
      " [1042574.72805553 1939213.13022914]\n",
      " [1172511.76342237 1845674.93787413]\n",
      " [1021327.19034222 1560897.94632256]\n",
      " [1062999.21749677 1453559.40120258]\n",
      " [1000288.24616253 1443178.03541043]\n",
      " [1044685.95354425 1378006.326569  ]\n",
      " [ 987872.7091654  1327522.05681104]\n",
      " [ 722077.32439015 1214722.65658246]\n",
      " [ 659035.88436743 1183297.81184777]\n",
      " [ 525179.19459409 1394810.48333534]\n",
      " [ 610266.55901865 1179449.80816414]\n",
      " [ 664876.57312146 1093803.30912806]\n",
      " [ 795809.28694284 1250045.55394583]\n",
      " [ 908584.9756035  1183567.42644327]\n",
      " [ 829813.11196554 1093090.51496752]]\n"
     ]
    }
   ],
   "source": [
    "print(arr_2d)"
   ]
  },
  {
   "cell_type": "code",
   "execution_count": null,
   "metadata": {
    "colab": {
     "base_uri": "https://localhost:8080/"
    },
    "id": "VNtY97_jcPs9",
    "outputId": "65776258-4c13-4346-a149-f04e4146cc7a"
   },
   "outputs": [
    {
     "data": {
      "text/plain": [
       "(36, 2)"
      ]
     },
     "execution_count": 28,
     "metadata": {},
     "output_type": "execute_result"
    }
   ],
   "source": [
    "arr_2d.shape"
   ]
  },
  {
   "cell_type": "markdown",
   "metadata": {
    "id": "8TjQXd280g0y"
   },
   "source": [
    "Edge list "
   ]
  },
  {
   "cell_type": "code",
   "execution_count": null,
   "metadata": {
    "id": "AdIr9iMUrBxH"
   },
   "outputs": [],
   "source": [
    "x1=[]\n",
    "y1=[]\n",
    "for i in range(36):\n",
    "  for j in range(36):\n",
    "    if out_num[i,j]==1:\n",
    "      x1.append(i)\n",
    "      y1.append(j)\n",
    "\n",
    " \n",
    "          \n"
   ]
  },
  {
   "cell_type": "code",
   "execution_count": null,
   "metadata": {
    "colab": {
     "base_uri": "https://localhost:8080/"
    },
    "id": "LHVhENRYvDSC",
    "outputId": "599541b2-8dfb-4116-c1a9-133cf7881eea"
   },
   "outputs": [
    {
     "name": "stdout",
     "output_type": "stream",
     "text": [
      "[0, 1, 1, 1, 1, 2, 2, 3, 3, 3, 3, 3, 3, 4, 4, 4, 5, 5, 6, 6, 6, 7, 7, 7, 7, 8, 8, 8, 8, 9, 9, 10, 10, 10, 11, 11, 11, 12, 12, 13, 14, 14, 15, 16, 16, 17, 17, 17, 18, 18, 19, 20, 20, 21, 22, 22, 23, 23, 24, 24, 26, 27, 27, 27, 28, 28, 29, 29, 30, 31, 31, 31, 32, 33, 34, 34, 35, 35, 35, 35]\n"
     ]
    }
   ],
   "source": [
    "print(x1)"
   ]
  },
  {
   "cell_type": "code",
   "execution_count": null,
   "metadata": {
    "colab": {
     "base_uri": "https://localhost:8080/"
    },
    "id": "KHaxNsUKvHUB",
    "outputId": "3a7a2cca-18f7-43bd-f977-53b8caeb1820"
   },
   "outputs": [
    {
     "name": "stdout",
     "output_type": "stream",
     "text": [
      "[1, 0, 2, 3, 8, 1, 35, 1, 4, 6, 11, 16, 23, 3, 5, 8, 4, 27, 3, 7, 34, 6, 11, 12, 18, 1, 4, 9, 10, 8, 24, 8, 19, 31, 3, 7, 15, 7, 28, 34, 21, 35, 11, 3, 18, 24, 28, 31, 7, 16, 10, 22, 35, 14, 20, 27, 3, 32, 9, 17, 30, 5, 22, 35, 12, 17, 31, 33, 26, 10, 17, 29, 23, 29, 6, 13, 2, 14, 20, 27]\n"
     ]
    }
   ],
   "source": [
    "print(y1)"
   ]
  },
  {
   "cell_type": "markdown",
   "metadata": {
    "id": "VTvrww-I14_r"
   },
   "source": [
    "Distance matrix"
   ]
  },
  {
   "cell_type": "code",
   "execution_count": null,
   "metadata": {
    "colab": {
     "base_uri": "https://localhost:8080/"
    },
    "id": "eS3lTeOa0a_Z",
    "outputId": "c1555c83-1137-44eb-89d6-deec2c2ab456"
   },
   "outputs": [
    {
     "name": "stdout",
     "output_type": "stream",
     "text": [
      "1\n",
      "2\n",
      "3\n",
      "4\n",
      "5\n",
      "6\n",
      "7\n",
      "8\n",
      "9\n",
      "10\n",
      "11\n",
      "12\n",
      "13\n",
      "14\n",
      "15\n",
      "16\n",
      "17\n",
      "18\n",
      "19\n",
      "20\n",
      "21\n",
      "22\n",
      "23\n",
      "24\n",
      "25\n",
      "26\n",
      "27\n",
      "28\n",
      "29\n",
      "30\n",
      "31\n",
      "32\n",
      "33\n",
      "34\n",
      "35\n",
      "36\n",
      "37\n",
      "38\n",
      "39\n",
      "40\n",
      "41\n",
      "42\n",
      "43\n",
      "44\n",
      "45\n",
      "46\n",
      "47\n",
      "48\n",
      "49\n",
      "50\n",
      "51\n",
      "52\n",
      "53\n",
      "54\n",
      "55\n",
      "56\n",
      "57\n",
      "58\n",
      "59\n",
      "60\n",
      "61\n",
      "62\n",
      "63\n",
      "64\n",
      "65\n",
      "66\n",
      "67\n",
      "68\n",
      "69\n",
      "70\n",
      "71\n",
      "72\n",
      "73\n",
      "74\n",
      "75\n",
      "76\n",
      "77\n",
      "78\n",
      "79\n",
      "80\n"
     ]
    }
   ],
   "source": [
    "from math import sin, cos, sqrt, atan2, radians\n",
    "\n",
    "distance=[]\n",
    "count=0\n",
    "matrix=np.empty((36,36))\n",
    "for i in range(36):\n",
    "  for j in range(36):\n",
    "    \n",
    "     for k in range(len(x1)):\n",
    "          if x1[0]==i and y1[0]==j:\n",
    "\n",
    "\n",
    "             point1=x1[0]\n",
    "             point2=y1[0]\n",
    "                                             \n",
    "             p1=np.array(arr_2d[point1])\n",
    "             p2=np.array(arr_2d[point2])\n",
    "             dist = np.linalg.norm(p1 - p2)\n",
    "      \n",
    "             distance.append(dist)\n",
    "             matrix[i,j]=dist\n",
    "             del x1[0]\n",
    "             del y1[0]\n",
    "             count=count+1\n",
    "             print(count)\n",
    "\n",
    "          \n",
    "\n",
    "\n",
    "\n",
    "    \n",
    "  \n",
    "\n",
    "\n",
    "\n",
    "      \n",
    "\n"
   ]
  },
  {
   "cell_type": "code",
   "execution_count": null,
   "metadata": {
    "colab": {
     "base_uri": "https://localhost:8080/"
    },
    "id": "dbEN5O8pF9iv",
    "outputId": "9e75f005-a12e-464c-c539-05e9a97d6328"
   },
   "outputs": [
    {
     "name": "stdout",
     "output_type": "stream",
     "text": [
      "[     0.         154137.65533921      0.              0.\n",
      "      0.              0.              0.              0.\n",
      "      0.              0.              0.              0.\n",
      "      0.              0.              0.              0.\n",
      "      0.              0.              0.              0.\n",
      "      0.              0.              0.              0.\n",
      "      0.              0.              0.              0.\n",
      "      0.              0.              0.              0.\n",
      "      0.              0.              0.              0.        ]\n",
      "[1.54137655e+005 0.00000000e+000 6.79949051e+004 7.70232055e+004\n",
      " 0.00000000e+000 0.00000000e+000 0.00000000e+000 0.00000000e+000\n",
      " 2.12184635e+005 0.00000000e+000 0.00000000e+000 0.00000000e+000\n",
      " 4.68193677e-310 0.00000000e+000 0.00000000e+000 0.00000000e+000\n",
      " 0.00000000e+000 0.00000000e+000 0.00000000e+000 0.00000000e+000\n",
      " 0.00000000e+000 0.00000000e+000 0.00000000e+000 0.00000000e+000\n",
      " 0.00000000e+000 0.00000000e+000 0.00000000e+000 0.00000000e+000\n",
      " 0.00000000e+000 0.00000000e+000 0.00000000e+000 0.00000000e+000\n",
      " 0.00000000e+000 0.00000000e+000 0.00000000e+000 0.00000000e+000]\n"
     ]
    }
   ],
   "source": [
    "print(matrix[0])\n",
    "print(matrix[1])"
   ]
  },
  {
   "cell_type": "code",
   "execution_count": null,
   "metadata": {
    "colab": {
     "base_uri": "https://localhost:8080/"
    },
    "id": "aDlegg_BQRYW",
    "outputId": "823a26ea-c6b4-47a6-953e-f55a15df2168"
   },
   "outputs": [
    {
     "name": "stdout",
     "output_type": "stream",
     "text": [
      "[[     0.         154137.65533921      0.         ...      0.\n",
      "       0.              0.        ]\n",
      " [154137.65533921      0.          67994.90505442 ...      0.\n",
      "       0.              0.        ]\n",
      " [     0.          67994.90505442      0.         ...      0.\n",
      "       0.         754350.82501716]\n",
      " ...\n",
      " [     0.              0.              0.         ...      0.\n",
      "       0.              0.        ]\n",
      " [     0.              0.              0.         ...      0.\n",
      "       0.              0.        ]\n",
      " [     0.              0.         754350.82501716 ...      0.\n",
      "       0.              0.        ]]\n"
     ]
    }
   ],
   "source": [
    "print(matrix)"
   ]
  },
  {
   "cell_type": "code",
   "execution_count": null,
   "metadata": {
    "id": "dxc0JomrR_dB"
   },
   "outputs": [],
   "source": [
    "import pandas as pd\n",
    "df=pd.DataFrame(matrix)"
   ]
  },
  {
   "cell_type": "markdown",
   "metadata": {
    "id": "8bsShL6cV2pG"
   },
   "source": []
  },
  {
   "cell_type": "code",
   "execution_count": null,
   "metadata": {
    "colab": {
     "base_uri": "https://localhost:8080/",
     "height": 1000
    },
    "id": "oUhl14kYSpQ9",
    "outputId": "f19a4fd1-c5e8-47a3-dca4-454494877681"
   },
   "outputs": [
    {
     "data": {
      "text/html": [
       "\n",
       "  <div id=\"df-2d5d28b8-f97d-4713-995a-1c6ff81bac43\">\n",
       "    <div class=\"colab-df-container\">\n",
       "      <div>\n",
       "<style scoped>\n",
       "    .dataframe tbody tr th:only-of-type {\n",
       "        vertical-align: middle;\n",
       "    }\n",
       "\n",
       "    .dataframe tbody tr th {\n",
       "        vertical-align: top;\n",
       "    }\n",
       "\n",
       "    .dataframe thead th {\n",
       "        text-align: right;\n",
       "    }\n",
       "</style>\n",
       "<table border=\"1\" class=\"dataframe\">\n",
       "  <thead>\n",
       "    <tr style=\"text-align: right;\">\n",
       "      <th></th>\n",
       "      <th>0</th>\n",
       "      <th>1</th>\n",
       "      <th>2</th>\n",
       "      <th>3</th>\n",
       "      <th>4</th>\n",
       "      <th>5</th>\n",
       "      <th>6</th>\n",
       "      <th>7</th>\n",
       "      <th>8</th>\n",
       "      <th>9</th>\n",
       "      <th>...</th>\n",
       "      <th>26</th>\n",
       "      <th>27</th>\n",
       "      <th>28</th>\n",
       "      <th>29</th>\n",
       "      <th>30</th>\n",
       "      <th>31</th>\n",
       "      <th>32</th>\n",
       "      <th>33</th>\n",
       "      <th>34</th>\n",
       "      <th>35</th>\n",
       "    </tr>\n",
       "  </thead>\n",
       "  <tbody>\n",
       "    <tr>\n",
       "      <th>0</th>\n",
       "      <td>0.000000</td>\n",
       "      <td>154137.655339</td>\n",
       "      <td>0.000000</td>\n",
       "      <td>0.000000</td>\n",
       "      <td>0.000000</td>\n",
       "      <td>0.000000</td>\n",
       "      <td>0.000000</td>\n",
       "      <td>0.000000</td>\n",
       "      <td>0.000000e+00</td>\n",
       "      <td>0.000000</td>\n",
       "      <td>...</td>\n",
       "      <td>0.000000</td>\n",
       "      <td>0.000000</td>\n",
       "      <td>0.000000e+00</td>\n",
       "      <td>0.000000</td>\n",
       "      <td>0.000000</td>\n",
       "      <td>0.000000</td>\n",
       "      <td>0.000000</td>\n",
       "      <td>0.000000</td>\n",
       "      <td>0.000000</td>\n",
       "      <td>0.000000</td>\n",
       "    </tr>\n",
       "    <tr>\n",
       "      <th>1</th>\n",
       "      <td>154137.655339</td>\n",
       "      <td>0.000000</td>\n",
       "      <td>67994.905054</td>\n",
       "      <td>77023.205515</td>\n",
       "      <td>0.000000</td>\n",
       "      <td>0.000000</td>\n",
       "      <td>0.000000</td>\n",
       "      <td>0.000000</td>\n",
       "      <td>2.121846e+05</td>\n",
       "      <td>0.000000</td>\n",
       "      <td>...</td>\n",
       "      <td>0.000000</td>\n",
       "      <td>0.000000</td>\n",
       "      <td>0.000000e+00</td>\n",
       "      <td>0.000000</td>\n",
       "      <td>0.000000</td>\n",
       "      <td>0.000000</td>\n",
       "      <td>0.000000</td>\n",
       "      <td>0.000000</td>\n",
       "      <td>0.000000</td>\n",
       "      <td>0.000000</td>\n",
       "    </tr>\n",
       "    <tr>\n",
       "      <th>2</th>\n",
       "      <td>0.000000</td>\n",
       "      <td>67994.905054</td>\n",
       "      <td>0.000000</td>\n",
       "      <td>0.000000</td>\n",
       "      <td>0.000000</td>\n",
       "      <td>0.000000</td>\n",
       "      <td>0.000000</td>\n",
       "      <td>0.000000</td>\n",
       "      <td>0.000000e+00</td>\n",
       "      <td>0.000000</td>\n",
       "      <td>...</td>\n",
       "      <td>0.000000</td>\n",
       "      <td>0.000000</td>\n",
       "      <td>0.000000e+00</td>\n",
       "      <td>0.000000</td>\n",
       "      <td>0.000000</td>\n",
       "      <td>0.000000</td>\n",
       "      <td>0.000000</td>\n",
       "      <td>0.000000</td>\n",
       "      <td>0.000000</td>\n",
       "      <td>754350.825017</td>\n",
       "    </tr>\n",
       "    <tr>\n",
       "      <th>3</th>\n",
       "      <td>0.000000</td>\n",
       "      <td>77023.205515</td>\n",
       "      <td>0.000000</td>\n",
       "      <td>0.000000</td>\n",
       "      <td>59221.237624</td>\n",
       "      <td>0.000000</td>\n",
       "      <td>209829.283571</td>\n",
       "      <td>0.000000</td>\n",
       "      <td>0.000000e+00</td>\n",
       "      <td>0.000000</td>\n",
       "      <td>...</td>\n",
       "      <td>0.000000</td>\n",
       "      <td>0.000000</td>\n",
       "      <td>4.681937e-310</td>\n",
       "      <td>0.000000</td>\n",
       "      <td>0.000000</td>\n",
       "      <td>0.000000</td>\n",
       "      <td>0.000000</td>\n",
       "      <td>0.000000</td>\n",
       "      <td>0.000000</td>\n",
       "      <td>0.000000</td>\n",
       "    </tr>\n",
       "    <tr>\n",
       "      <th>4</th>\n",
       "      <td>0.000000</td>\n",
       "      <td>0.000000</td>\n",
       "      <td>0.000000</td>\n",
       "      <td>59221.237624</td>\n",
       "      <td>0.000000</td>\n",
       "      <td>229573.061036</td>\n",
       "      <td>0.000000</td>\n",
       "      <td>0.000000</td>\n",
       "      <td>7.887577e+04</td>\n",
       "      <td>0.000000</td>\n",
       "      <td>...</td>\n",
       "      <td>0.000000</td>\n",
       "      <td>0.000000</td>\n",
       "      <td>0.000000e+00</td>\n",
       "      <td>0.000000</td>\n",
       "      <td>0.000000</td>\n",
       "      <td>0.000000</td>\n",
       "      <td>0.000000</td>\n",
       "      <td>0.000000</td>\n",
       "      <td>0.000000</td>\n",
       "      <td>0.000000</td>\n",
       "    </tr>\n",
       "    <tr>\n",
       "      <th>5</th>\n",
       "      <td>0.000000</td>\n",
       "      <td>0.000000</td>\n",
       "      <td>0.000000</td>\n",
       "      <td>0.000000</td>\n",
       "      <td>229573.061036</td>\n",
       "      <td>0.000000</td>\n",
       "      <td>0.000000</td>\n",
       "      <td>0.000000</td>\n",
       "      <td>0.000000e+00</td>\n",
       "      <td>0.000000</td>\n",
       "      <td>...</td>\n",
       "      <td>0.000000</td>\n",
       "      <td>717171.443391</td>\n",
       "      <td>0.000000e+00</td>\n",
       "      <td>0.000000</td>\n",
       "      <td>0.000000</td>\n",
       "      <td>0.000000</td>\n",
       "      <td>0.000000</td>\n",
       "      <td>0.000000</td>\n",
       "      <td>0.000000</td>\n",
       "      <td>0.000000</td>\n",
       "    </tr>\n",
       "    <tr>\n",
       "      <th>6</th>\n",
       "      <td>0.000000</td>\n",
       "      <td>0.000000</td>\n",
       "      <td>0.000000</td>\n",
       "      <td>209829.283571</td>\n",
       "      <td>0.000000</td>\n",
       "      <td>0.000000</td>\n",
       "      <td>0.000000</td>\n",
       "      <td>60233.040080</td>\n",
       "      <td>4.681937e-310</td>\n",
       "      <td>0.000000</td>\n",
       "      <td>...</td>\n",
       "      <td>0.000000</td>\n",
       "      <td>0.000000</td>\n",
       "      <td>0.000000e+00</td>\n",
       "      <td>0.000000</td>\n",
       "      <td>0.000000</td>\n",
       "      <td>0.000000</td>\n",
       "      <td>0.000000</td>\n",
       "      <td>0.000000</td>\n",
       "      <td>438857.360116</td>\n",
       "      <td>0.000000</td>\n",
       "    </tr>\n",
       "    <tr>\n",
       "      <th>7</th>\n",
       "      <td>0.000000</td>\n",
       "      <td>0.000000</td>\n",
       "      <td>0.000000</td>\n",
       "      <td>0.000000</td>\n",
       "      <td>0.000000</td>\n",
       "      <td>0.000000</td>\n",
       "      <td>60233.040080</td>\n",
       "      <td>0.000000</td>\n",
       "      <td>0.000000e+00</td>\n",
       "      <td>0.000000</td>\n",
       "      <td>...</td>\n",
       "      <td>0.000000</td>\n",
       "      <td>0.000000</td>\n",
       "      <td>0.000000e+00</td>\n",
       "      <td>0.000000</td>\n",
       "      <td>0.000000</td>\n",
       "      <td>0.000000</td>\n",
       "      <td>0.000000</td>\n",
       "      <td>0.000000</td>\n",
       "      <td>0.000000</td>\n",
       "      <td>0.000000</td>\n",
       "    </tr>\n",
       "    <tr>\n",
       "      <th>8</th>\n",
       "      <td>0.000000</td>\n",
       "      <td>212184.634954</td>\n",
       "      <td>0.000000</td>\n",
       "      <td>0.000000</td>\n",
       "      <td>78875.765476</td>\n",
       "      <td>0.000000</td>\n",
       "      <td>0.000000</td>\n",
       "      <td>0.000000</td>\n",
       "      <td>0.000000e+00</td>\n",
       "      <td>60201.680524</td>\n",
       "      <td>...</td>\n",
       "      <td>0.000000</td>\n",
       "      <td>0.000000</td>\n",
       "      <td>0.000000e+00</td>\n",
       "      <td>0.000000</td>\n",
       "      <td>0.000000</td>\n",
       "      <td>0.000000</td>\n",
       "      <td>0.000000</td>\n",
       "      <td>0.000000</td>\n",
       "      <td>0.000000</td>\n",
       "      <td>0.000000</td>\n",
       "    </tr>\n",
       "    <tr>\n",
       "      <th>9</th>\n",
       "      <td>0.000000</td>\n",
       "      <td>0.000000</td>\n",
       "      <td>0.000000</td>\n",
       "      <td>0.000000</td>\n",
       "      <td>0.000000</td>\n",
       "      <td>0.000000</td>\n",
       "      <td>0.000000</td>\n",
       "      <td>0.000000</td>\n",
       "      <td>6.020168e+04</td>\n",
       "      <td>0.000000</td>\n",
       "      <td>...</td>\n",
       "      <td>0.000000</td>\n",
       "      <td>0.000000</td>\n",
       "      <td>0.000000e+00</td>\n",
       "      <td>0.000000</td>\n",
       "      <td>0.000000</td>\n",
       "      <td>0.000000</td>\n",
       "      <td>0.000000</td>\n",
       "      <td>0.000000</td>\n",
       "      <td>0.000000</td>\n",
       "      <td>0.000000</td>\n",
       "    </tr>\n",
       "    <tr>\n",
       "      <th>10</th>\n",
       "      <td>0.000000</td>\n",
       "      <td>0.000000</td>\n",
       "      <td>0.000000</td>\n",
       "      <td>0.000000</td>\n",
       "      <td>0.000000</td>\n",
       "      <td>0.000000</td>\n",
       "      <td>0.000000</td>\n",
       "      <td>0.000000</td>\n",
       "      <td>4.705230e+04</td>\n",
       "      <td>0.000000</td>\n",
       "      <td>...</td>\n",
       "      <td>0.000000</td>\n",
       "      <td>0.000000</td>\n",
       "      <td>0.000000e+00</td>\n",
       "      <td>0.000000</td>\n",
       "      <td>0.000000</td>\n",
       "      <td>499627.815285</td>\n",
       "      <td>0.000000</td>\n",
       "      <td>0.000000</td>\n",
       "      <td>0.000000</td>\n",
       "      <td>0.000000</td>\n",
       "    </tr>\n",
       "    <tr>\n",
       "      <th>11</th>\n",
       "      <td>0.000000</td>\n",
       "      <td>0.000000</td>\n",
       "      <td>0.000000</td>\n",
       "      <td>197724.823449</td>\n",
       "      <td>0.000000</td>\n",
       "      <td>0.000000</td>\n",
       "      <td>0.000000</td>\n",
       "      <td>160346.896658</td>\n",
       "      <td>0.000000e+00</td>\n",
       "      <td>0.000000</td>\n",
       "      <td>...</td>\n",
       "      <td>0.000000</td>\n",
       "      <td>0.000000</td>\n",
       "      <td>0.000000e+00</td>\n",
       "      <td>0.000000</td>\n",
       "      <td>0.000000</td>\n",
       "      <td>0.000000</td>\n",
       "      <td>0.000000</td>\n",
       "      <td>0.000000</td>\n",
       "      <td>0.000000</td>\n",
       "      <td>0.000000</td>\n",
       "    </tr>\n",
       "    <tr>\n",
       "      <th>12</th>\n",
       "      <td>0.000000</td>\n",
       "      <td>0.000000</td>\n",
       "      <td>0.000000</td>\n",
       "      <td>0.000000</td>\n",
       "      <td>0.000000</td>\n",
       "      <td>0.000000</td>\n",
       "      <td>0.000000</td>\n",
       "      <td>229474.117593</td>\n",
       "      <td>0.000000e+00</td>\n",
       "      <td>0.000000</td>\n",
       "      <td>...</td>\n",
       "      <td>0.000000</td>\n",
       "      <td>0.000000</td>\n",
       "      <td>4.543572e+05</td>\n",
       "      <td>0.000000</td>\n",
       "      <td>0.000000</td>\n",
       "      <td>0.000000</td>\n",
       "      <td>0.000000</td>\n",
       "      <td>0.000000</td>\n",
       "      <td>0.000000</td>\n",
       "      <td>0.000000</td>\n",
       "    </tr>\n",
       "    <tr>\n",
       "      <th>13</th>\n",
       "      <td>0.000000</td>\n",
       "      <td>0.000000</td>\n",
       "      <td>0.000000</td>\n",
       "      <td>0.000000</td>\n",
       "      <td>0.000000</td>\n",
       "      <td>0.000000</td>\n",
       "      <td>0.000000</td>\n",
       "      <td>0.000000</td>\n",
       "      <td>0.000000e+00</td>\n",
       "      <td>0.000000</td>\n",
       "      <td>...</td>\n",
       "      <td>0.000000</td>\n",
       "      <td>0.000000</td>\n",
       "      <td>0.000000e+00</td>\n",
       "      <td>0.000000</td>\n",
       "      <td>0.000000</td>\n",
       "      <td>0.000000</td>\n",
       "      <td>0.000000</td>\n",
       "      <td>0.000000</td>\n",
       "      <td>723080.257010</td>\n",
       "      <td>0.000000</td>\n",
       "    </tr>\n",
       "    <tr>\n",
       "      <th>14</th>\n",
       "      <td>0.000000</td>\n",
       "      <td>0.000000</td>\n",
       "      <td>0.000000</td>\n",
       "      <td>0.000000</td>\n",
       "      <td>0.000000</td>\n",
       "      <td>0.000000</td>\n",
       "      <td>0.000000</td>\n",
       "      <td>0.000000</td>\n",
       "      <td>0.000000e+00</td>\n",
       "      <td>0.000000</td>\n",
       "      <td>...</td>\n",
       "      <td>0.000000</td>\n",
       "      <td>0.000000</td>\n",
       "      <td>0.000000e+00</td>\n",
       "      <td>0.000000</td>\n",
       "      <td>0.000000</td>\n",
       "      <td>0.000000</td>\n",
       "      <td>0.000000</td>\n",
       "      <td>0.000000</td>\n",
       "      <td>0.000000</td>\n",
       "      <td>497026.547159</td>\n",
       "    </tr>\n",
       "    <tr>\n",
       "      <th>15</th>\n",
       "      <td>0.000000</td>\n",
       "      <td>0.000000</td>\n",
       "      <td>0.000000</td>\n",
       "      <td>0.000000</td>\n",
       "      <td>0.000000</td>\n",
       "      <td>0.000000</td>\n",
       "      <td>0.000000</td>\n",
       "      <td>0.000000</td>\n",
       "      <td>0.000000e+00</td>\n",
       "      <td>0.000000</td>\n",
       "      <td>...</td>\n",
       "      <td>0.000000</td>\n",
       "      <td>0.000000</td>\n",
       "      <td>0.000000e+00</td>\n",
       "      <td>0.000000</td>\n",
       "      <td>0.000000</td>\n",
       "      <td>0.000000</td>\n",
       "      <td>0.000000</td>\n",
       "      <td>0.000000</td>\n",
       "      <td>0.000000</td>\n",
       "      <td>0.000000</td>\n",
       "    </tr>\n",
       "    <tr>\n",
       "      <th>16</th>\n",
       "      <td>0.000000</td>\n",
       "      <td>0.000000</td>\n",
       "      <td>0.000000</td>\n",
       "      <td>481532.029448</td>\n",
       "      <td>0.000000</td>\n",
       "      <td>0.000000</td>\n",
       "      <td>0.000000</td>\n",
       "      <td>0.000000</td>\n",
       "      <td>0.000000e+00</td>\n",
       "      <td>0.000000</td>\n",
       "      <td>...</td>\n",
       "      <td>0.000000</td>\n",
       "      <td>0.000000</td>\n",
       "      <td>0.000000e+00</td>\n",
       "      <td>0.000000</td>\n",
       "      <td>0.000000</td>\n",
       "      <td>0.000000</td>\n",
       "      <td>0.000000</td>\n",
       "      <td>0.000000</td>\n",
       "      <td>0.000000</td>\n",
       "      <td>0.000000</td>\n",
       "    </tr>\n",
       "    <tr>\n",
       "      <th>17</th>\n",
       "      <td>0.000000</td>\n",
       "      <td>0.000000</td>\n",
       "      <td>0.000000</td>\n",
       "      <td>0.000000</td>\n",
       "      <td>0.000000</td>\n",
       "      <td>0.000000</td>\n",
       "      <td>0.000000</td>\n",
       "      <td>0.000000</td>\n",
       "      <td>0.000000e+00</td>\n",
       "      <td>0.000000</td>\n",
       "      <td>...</td>\n",
       "      <td>0.000000</td>\n",
       "      <td>0.000000</td>\n",
       "      <td>3.479949e+05</td>\n",
       "      <td>0.000000</td>\n",
       "      <td>0.000000</td>\n",
       "      <td>450637.112323</td>\n",
       "      <td>0.000000</td>\n",
       "      <td>0.000000</td>\n",
       "      <td>0.000000</td>\n",
       "      <td>0.000000</td>\n",
       "    </tr>\n",
       "    <tr>\n",
       "      <th>18</th>\n",
       "      <td>0.000000</td>\n",
       "      <td>0.000000</td>\n",
       "      <td>0.000000</td>\n",
       "      <td>0.000000</td>\n",
       "      <td>0.000000</td>\n",
       "      <td>0.000000</td>\n",
       "      <td>0.000000</td>\n",
       "      <td>428808.998603</td>\n",
       "      <td>0.000000e+00</td>\n",
       "      <td>0.000000</td>\n",
       "      <td>...</td>\n",
       "      <td>0.000000</td>\n",
       "      <td>0.000000</td>\n",
       "      <td>0.000000e+00</td>\n",
       "      <td>0.000000</td>\n",
       "      <td>0.000000</td>\n",
       "      <td>0.000000</td>\n",
       "      <td>0.000000</td>\n",
       "      <td>0.000000</td>\n",
       "      <td>0.000000</td>\n",
       "      <td>0.000000</td>\n",
       "    </tr>\n",
       "    <tr>\n",
       "      <th>19</th>\n",
       "      <td>0.000000</td>\n",
       "      <td>0.000000</td>\n",
       "      <td>0.000000</td>\n",
       "      <td>0.000000</td>\n",
       "      <td>0.000000</td>\n",
       "      <td>0.000000</td>\n",
       "      <td>0.000000</td>\n",
       "      <td>0.000000</td>\n",
       "      <td>0.000000e+00</td>\n",
       "      <td>0.000000</td>\n",
       "      <td>...</td>\n",
       "      <td>0.000000</td>\n",
       "      <td>0.000000</td>\n",
       "      <td>0.000000e+00</td>\n",
       "      <td>0.000000</td>\n",
       "      <td>0.000000</td>\n",
       "      <td>0.000000</td>\n",
       "      <td>0.000000</td>\n",
       "      <td>0.000000</td>\n",
       "      <td>0.000000</td>\n",
       "      <td>0.000000</td>\n",
       "    </tr>\n",
       "    <tr>\n",
       "      <th>20</th>\n",
       "      <td>0.000000</td>\n",
       "      <td>0.000000</td>\n",
       "      <td>0.000000</td>\n",
       "      <td>0.000000</td>\n",
       "      <td>0.000000</td>\n",
       "      <td>0.000000</td>\n",
       "      <td>0.000000</td>\n",
       "      <td>0.000000</td>\n",
       "      <td>0.000000e+00</td>\n",
       "      <td>0.000000</td>\n",
       "      <td>...</td>\n",
       "      <td>0.000000</td>\n",
       "      <td>0.000000</td>\n",
       "      <td>0.000000e+00</td>\n",
       "      <td>0.000000</td>\n",
       "      <td>0.000000</td>\n",
       "      <td>0.000000</td>\n",
       "      <td>0.000000</td>\n",
       "      <td>0.000000</td>\n",
       "      <td>0.000000</td>\n",
       "      <td>797809.426392</td>\n",
       "    </tr>\n",
       "    <tr>\n",
       "      <th>21</th>\n",
       "      <td>0.000000</td>\n",
       "      <td>0.000000</td>\n",
       "      <td>0.000000</td>\n",
       "      <td>0.000000</td>\n",
       "      <td>0.000000</td>\n",
       "      <td>0.000000</td>\n",
       "      <td>0.000000</td>\n",
       "      <td>0.000000</td>\n",
       "      <td>0.000000e+00</td>\n",
       "      <td>0.000000</td>\n",
       "      <td>...</td>\n",
       "      <td>0.000000</td>\n",
       "      <td>0.000000</td>\n",
       "      <td>0.000000e+00</td>\n",
       "      <td>0.000000</td>\n",
       "      <td>0.000000</td>\n",
       "      <td>0.000000</td>\n",
       "      <td>0.000000</td>\n",
       "      <td>0.000000</td>\n",
       "      <td>0.000000</td>\n",
       "      <td>0.000000</td>\n",
       "    </tr>\n",
       "    <tr>\n",
       "      <th>22</th>\n",
       "      <td>0.000000</td>\n",
       "      <td>0.000000</td>\n",
       "      <td>0.000000</td>\n",
       "      <td>0.000000</td>\n",
       "      <td>0.000000</td>\n",
       "      <td>0.000000</td>\n",
       "      <td>0.000000</td>\n",
       "      <td>0.000000</td>\n",
       "      <td>0.000000e+00</td>\n",
       "      <td>0.000000</td>\n",
       "      <td>...</td>\n",
       "      <td>0.000000</td>\n",
       "      <td>550067.258170</td>\n",
       "      <td>0.000000e+00</td>\n",
       "      <td>0.000000</td>\n",
       "      <td>0.000000</td>\n",
       "      <td>0.000000</td>\n",
       "      <td>0.000000</td>\n",
       "      <td>0.000000</td>\n",
       "      <td>0.000000</td>\n",
       "      <td>0.000000</td>\n",
       "    </tr>\n",
       "    <tr>\n",
       "      <th>23</th>\n",
       "      <td>0.000000</td>\n",
       "      <td>0.000000</td>\n",
       "      <td>0.000000</td>\n",
       "      <td>521722.378126</td>\n",
       "      <td>0.000000</td>\n",
       "      <td>0.000000</td>\n",
       "      <td>0.000000</td>\n",
       "      <td>0.000000</td>\n",
       "      <td>0.000000e+00</td>\n",
       "      <td>0.000000</td>\n",
       "      <td>...</td>\n",
       "      <td>0.000000</td>\n",
       "      <td>0.000000</td>\n",
       "      <td>0.000000e+00</td>\n",
       "      <td>0.000000</td>\n",
       "      <td>0.000000</td>\n",
       "      <td>0.000000</td>\n",
       "      <td>587566.543136</td>\n",
       "      <td>0.000000</td>\n",
       "      <td>0.000000</td>\n",
       "      <td>0.000000</td>\n",
       "    </tr>\n",
       "    <tr>\n",
       "      <th>24</th>\n",
       "      <td>0.000000</td>\n",
       "      <td>0.000000</td>\n",
       "      <td>0.000000</td>\n",
       "      <td>0.000000</td>\n",
       "      <td>0.000000</td>\n",
       "      <td>0.000000</td>\n",
       "      <td>0.000000</td>\n",
       "      <td>0.000000</td>\n",
       "      <td>0.000000e+00</td>\n",
       "      <td>469228.903618</td>\n",
       "      <td>...</td>\n",
       "      <td>0.000000</td>\n",
       "      <td>0.000000</td>\n",
       "      <td>0.000000e+00</td>\n",
       "      <td>0.000000</td>\n",
       "      <td>0.000000</td>\n",
       "      <td>0.000000</td>\n",
       "      <td>0.000000</td>\n",
       "      <td>0.000000</td>\n",
       "      <td>0.000000</td>\n",
       "      <td>0.000000</td>\n",
       "    </tr>\n",
       "    <tr>\n",
       "      <th>25</th>\n",
       "      <td>0.000000</td>\n",
       "      <td>0.000000</td>\n",
       "      <td>0.000000</td>\n",
       "      <td>0.000000</td>\n",
       "      <td>0.000000</td>\n",
       "      <td>0.000000</td>\n",
       "      <td>0.000000</td>\n",
       "      <td>0.000000</td>\n",
       "      <td>0.000000e+00</td>\n",
       "      <td>0.000000</td>\n",
       "      <td>...</td>\n",
       "      <td>0.000000</td>\n",
       "      <td>0.000000</td>\n",
       "      <td>0.000000e+00</td>\n",
       "      <td>0.000000</td>\n",
       "      <td>0.000000</td>\n",
       "      <td>0.000000</td>\n",
       "      <td>0.000000</td>\n",
       "      <td>0.000000</td>\n",
       "      <td>0.000000</td>\n",
       "      <td>0.000000</td>\n",
       "    </tr>\n",
       "    <tr>\n",
       "      <th>26</th>\n",
       "      <td>0.000000</td>\n",
       "      <td>0.000000</td>\n",
       "      <td>0.000000</td>\n",
       "      <td>0.000000</td>\n",
       "      <td>0.000000</td>\n",
       "      <td>0.000000</td>\n",
       "      <td>0.000000</td>\n",
       "      <td>0.000000</td>\n",
       "      <td>0.000000e+00</td>\n",
       "      <td>0.000000</td>\n",
       "      <td>...</td>\n",
       "      <td>0.000000</td>\n",
       "      <td>0.000000</td>\n",
       "      <td>0.000000e+00</td>\n",
       "      <td>0.000000</td>\n",
       "      <td>519778.464617</td>\n",
       "      <td>0.000000</td>\n",
       "      <td>0.000000</td>\n",
       "      <td>0.000000</td>\n",
       "      <td>0.000000</td>\n",
       "      <td>0.000000</td>\n",
       "    </tr>\n",
       "    <tr>\n",
       "      <th>27</th>\n",
       "      <td>0.000000</td>\n",
       "      <td>0.000000</td>\n",
       "      <td>0.000000</td>\n",
       "      <td>0.000000</td>\n",
       "      <td>0.000000</td>\n",
       "      <td>717171.443391</td>\n",
       "      <td>0.000000</td>\n",
       "      <td>0.000000</td>\n",
       "      <td>0.000000e+00</td>\n",
       "      <td>0.000000</td>\n",
       "      <td>...</td>\n",
       "      <td>0.000000</td>\n",
       "      <td>0.000000</td>\n",
       "      <td>0.000000e+00</td>\n",
       "      <td>0.000000</td>\n",
       "      <td>0.000000</td>\n",
       "      <td>0.000000</td>\n",
       "      <td>0.000000</td>\n",
       "      <td>0.000000</td>\n",
       "      <td>0.000000</td>\n",
       "      <td>282738.366831</td>\n",
       "    </tr>\n",
       "    <tr>\n",
       "      <th>28</th>\n",
       "      <td>0.000000</td>\n",
       "      <td>0.000000</td>\n",
       "      <td>0.000000</td>\n",
       "      <td>0.000000</td>\n",
       "      <td>0.000000</td>\n",
       "      <td>0.000000</td>\n",
       "      <td>0.000000</td>\n",
       "      <td>0.000000</td>\n",
       "      <td>0.000000e+00</td>\n",
       "      <td>0.000000</td>\n",
       "      <td>...</td>\n",
       "      <td>0.000000</td>\n",
       "      <td>0.000000</td>\n",
       "      <td>0.000000e+00</td>\n",
       "      <td>0.000000</td>\n",
       "      <td>0.000000</td>\n",
       "      <td>0.000000</td>\n",
       "      <td>0.000000</td>\n",
       "      <td>0.000000</td>\n",
       "      <td>0.000000</td>\n",
       "      <td>0.000000</td>\n",
       "    </tr>\n",
       "    <tr>\n",
       "      <th>29</th>\n",
       "      <td>0.000000</td>\n",
       "      <td>0.000000</td>\n",
       "      <td>0.000000</td>\n",
       "      <td>0.000000</td>\n",
       "      <td>0.000000</td>\n",
       "      <td>0.000000</td>\n",
       "      <td>0.000000</td>\n",
       "      <td>0.000000</td>\n",
       "      <td>0.000000e+00</td>\n",
       "      <td>0.000000</td>\n",
       "      <td>...</td>\n",
       "      <td>0.000000</td>\n",
       "      <td>0.000000</td>\n",
       "      <td>0.000000e+00</td>\n",
       "      <td>0.000000</td>\n",
       "      <td>0.000000</td>\n",
       "      <td>48920.897655</td>\n",
       "      <td>0.000000</td>\n",
       "      <td>152191.408191</td>\n",
       "      <td>0.000000</td>\n",
       "      <td>0.000000</td>\n",
       "    </tr>\n",
       "    <tr>\n",
       "      <th>30</th>\n",
       "      <td>0.000000</td>\n",
       "      <td>0.000000</td>\n",
       "      <td>0.000000</td>\n",
       "      <td>0.000000</td>\n",
       "      <td>0.000000</td>\n",
       "      <td>0.000000</td>\n",
       "      <td>0.000000</td>\n",
       "      <td>0.000000</td>\n",
       "      <td>0.000000e+00</td>\n",
       "      <td>0.000000</td>\n",
       "      <td>...</td>\n",
       "      <td>519778.464617</td>\n",
       "      <td>0.000000</td>\n",
       "      <td>0.000000e+00</td>\n",
       "      <td>0.000000</td>\n",
       "      <td>0.000000</td>\n",
       "      <td>0.000000</td>\n",
       "      <td>0.000000</td>\n",
       "      <td>0.000000</td>\n",
       "      <td>0.000000</td>\n",
       "      <td>0.000000</td>\n",
       "    </tr>\n",
       "    <tr>\n",
       "      <th>31</th>\n",
       "      <td>0.000000</td>\n",
       "      <td>0.000000</td>\n",
       "      <td>0.000000</td>\n",
       "      <td>0.000000</td>\n",
       "      <td>0.000000</td>\n",
       "      <td>0.000000</td>\n",
       "      <td>0.000000</td>\n",
       "      <td>0.000000</td>\n",
       "      <td>0.000000e+00</td>\n",
       "      <td>0.000000</td>\n",
       "      <td>...</td>\n",
       "      <td>0.000000</td>\n",
       "      <td>0.000000</td>\n",
       "      <td>0.000000e+00</td>\n",
       "      <td>48920.897655</td>\n",
       "      <td>0.000000</td>\n",
       "      <td>0.000000</td>\n",
       "      <td>0.000000</td>\n",
       "      <td>0.000000</td>\n",
       "      <td>0.000000</td>\n",
       "      <td>0.000000</td>\n",
       "    </tr>\n",
       "    <tr>\n",
       "      <th>32</th>\n",
       "      <td>0.000000</td>\n",
       "      <td>0.000000</td>\n",
       "      <td>0.000000</td>\n",
       "      <td>0.000000</td>\n",
       "      <td>0.000000</td>\n",
       "      <td>0.000000</td>\n",
       "      <td>0.000000</td>\n",
       "      <td>0.000000</td>\n",
       "      <td>0.000000e+00</td>\n",
       "      <td>0.000000</td>\n",
       "      <td>...</td>\n",
       "      <td>0.000000</td>\n",
       "      <td>0.000000</td>\n",
       "      <td>0.000000e+00</td>\n",
       "      <td>0.000000</td>\n",
       "      <td>0.000000</td>\n",
       "      <td>0.000000</td>\n",
       "      <td>0.000000</td>\n",
       "      <td>0.000000</td>\n",
       "      <td>0.000000</td>\n",
       "      <td>0.000000</td>\n",
       "    </tr>\n",
       "    <tr>\n",
       "      <th>33</th>\n",
       "      <td>0.000000</td>\n",
       "      <td>0.000000</td>\n",
       "      <td>0.000000</td>\n",
       "      <td>0.000000</td>\n",
       "      <td>0.000000</td>\n",
       "      <td>0.000000</td>\n",
       "      <td>0.000000</td>\n",
       "      <td>0.000000</td>\n",
       "      <td>0.000000e+00</td>\n",
       "      <td>0.000000</td>\n",
       "      <td>...</td>\n",
       "      <td>0.000000</td>\n",
       "      <td>0.000000</td>\n",
       "      <td>0.000000e+00</td>\n",
       "      <td>152191.408191</td>\n",
       "      <td>0.000000</td>\n",
       "      <td>0.000000</td>\n",
       "      <td>0.000000</td>\n",
       "      <td>0.000000</td>\n",
       "      <td>0.000000</td>\n",
       "      <td>0.000000</td>\n",
       "    </tr>\n",
       "    <tr>\n",
       "      <th>34</th>\n",
       "      <td>0.000000</td>\n",
       "      <td>0.000000</td>\n",
       "      <td>0.000000</td>\n",
       "      <td>0.000000</td>\n",
       "      <td>0.000000</td>\n",
       "      <td>0.000000</td>\n",
       "      <td>438857.360116</td>\n",
       "      <td>0.000000</td>\n",
       "      <td>0.000000e+00</td>\n",
       "      <td>0.000000</td>\n",
       "      <td>...</td>\n",
       "      <td>0.000000</td>\n",
       "      <td>0.000000</td>\n",
       "      <td>0.000000e+00</td>\n",
       "      <td>0.000000</td>\n",
       "      <td>0.000000</td>\n",
       "      <td>0.000000</td>\n",
       "      <td>0.000000</td>\n",
       "      <td>0.000000</td>\n",
       "      <td>0.000000</td>\n",
       "      <td>0.000000</td>\n",
       "    </tr>\n",
       "    <tr>\n",
       "      <th>35</th>\n",
       "      <td>0.000000</td>\n",
       "      <td>0.000000</td>\n",
       "      <td>754350.825017</td>\n",
       "      <td>0.000000</td>\n",
       "      <td>0.000000</td>\n",
       "      <td>0.000000</td>\n",
       "      <td>0.000000</td>\n",
       "      <td>0.000000</td>\n",
       "      <td>0.000000e+00</td>\n",
       "      <td>0.000000</td>\n",
       "      <td>...</td>\n",
       "      <td>0.000000</td>\n",
       "      <td>282738.366831</td>\n",
       "      <td>0.000000e+00</td>\n",
       "      <td>0.000000</td>\n",
       "      <td>0.000000</td>\n",
       "      <td>0.000000</td>\n",
       "      <td>0.000000</td>\n",
       "      <td>0.000000</td>\n",
       "      <td>0.000000</td>\n",
       "      <td>0.000000</td>\n",
       "    </tr>\n",
       "  </tbody>\n",
       "</table>\n",
       "<p>36 rows × 36 columns</p>\n",
       "</div>\n",
       "      <button class=\"colab-df-convert\" onclick=\"convertToInteractive('df-2d5d28b8-f97d-4713-995a-1c6ff81bac43')\"\n",
       "              title=\"Convert this dataframe to an interactive table.\"\n",
       "              style=\"display:none;\">\n",
       "        \n",
       "  <svg xmlns=\"http://www.w3.org/2000/svg\" height=\"24px\"viewBox=\"0 0 24 24\"\n",
       "       width=\"24px\">\n",
       "    <path d=\"M0 0h24v24H0V0z\" fill=\"none\"/>\n",
       "    <path d=\"M18.56 5.44l.94 2.06.94-2.06 2.06-.94-2.06-.94-.94-2.06-.94 2.06-2.06.94zm-11 1L8.5 8.5l.94-2.06 2.06-.94-2.06-.94L8.5 2.5l-.94 2.06-2.06.94zm10 10l.94 2.06.94-2.06 2.06-.94-2.06-.94-.94-2.06-.94 2.06-2.06.94z\"/><path d=\"M17.41 7.96l-1.37-1.37c-.4-.4-.92-.59-1.43-.59-.52 0-1.04.2-1.43.59L10.3 9.45l-7.72 7.72c-.78.78-.78 2.05 0 2.83L4 21.41c.39.39.9.59 1.41.59.51 0 1.02-.2 1.41-.59l7.78-7.78 2.81-2.81c.8-.78.8-2.07 0-2.86zM5.41 20L4 18.59l7.72-7.72 1.47 1.35L5.41 20z\"/>\n",
       "  </svg>\n",
       "      </button>\n",
       "      \n",
       "  <style>\n",
       "    .colab-df-container {\n",
       "      display:flex;\n",
       "      flex-wrap:wrap;\n",
       "      gap: 12px;\n",
       "    }\n",
       "\n",
       "    .colab-df-convert {\n",
       "      background-color: #E8F0FE;\n",
       "      border: none;\n",
       "      border-radius: 50%;\n",
       "      cursor: pointer;\n",
       "      display: none;\n",
       "      fill: #1967D2;\n",
       "      height: 32px;\n",
       "      padding: 0 0 0 0;\n",
       "      width: 32px;\n",
       "    }\n",
       "\n",
       "    .colab-df-convert:hover {\n",
       "      background-color: #E2EBFA;\n",
       "      box-shadow: 0px 1px 2px rgba(60, 64, 67, 0.3), 0px 1px 3px 1px rgba(60, 64, 67, 0.15);\n",
       "      fill: #174EA6;\n",
       "    }\n",
       "\n",
       "    [theme=dark] .colab-df-convert {\n",
       "      background-color: #3B4455;\n",
       "      fill: #D2E3FC;\n",
       "    }\n",
       "\n",
       "    [theme=dark] .colab-df-convert:hover {\n",
       "      background-color: #434B5C;\n",
       "      box-shadow: 0px 1px 3px 1px rgba(0, 0, 0, 0.15);\n",
       "      filter: drop-shadow(0px 1px 2px rgba(0, 0, 0, 0.3));\n",
       "      fill: #FFFFFF;\n",
       "    }\n",
       "  </style>\n",
       "\n",
       "      <script>\n",
       "        const buttonEl =\n",
       "          document.querySelector('#df-2d5d28b8-f97d-4713-995a-1c6ff81bac43 button.colab-df-convert');\n",
       "        buttonEl.style.display =\n",
       "          google.colab.kernel.accessAllowed ? 'block' : 'none';\n",
       "\n",
       "        async function convertToInteractive(key) {\n",
       "          const element = document.querySelector('#df-2d5d28b8-f97d-4713-995a-1c6ff81bac43');\n",
       "          const dataTable =\n",
       "            await google.colab.kernel.invokeFunction('convertToInteractive',\n",
       "                                                     [key], {});\n",
       "          if (!dataTable) return;\n",
       "\n",
       "          const docLinkHtml = 'Like what you see? Visit the ' +\n",
       "            '<a target=\"_blank\" href=https://colab.research.google.com/notebooks/data_table.ipynb>data table notebook</a>'\n",
       "            + ' to learn more about interactive tables.';\n",
       "          element.innerHTML = '';\n",
       "          dataTable['output_type'] = 'display_data';\n",
       "          await google.colab.output.renderOutput(dataTable, element);\n",
       "          const docLink = document.createElement('div');\n",
       "          docLink.innerHTML = docLinkHtml;\n",
       "          element.appendChild(docLink);\n",
       "        }\n",
       "      </script>\n",
       "    </div>\n",
       "  </div>\n",
       "  "
      ],
      "text/plain": [
       "               0              1              2              3              4   \\\n",
       "0        0.000000  154137.655339       0.000000       0.000000       0.000000   \n",
       "1   154137.655339       0.000000   67994.905054   77023.205515       0.000000   \n",
       "2        0.000000   67994.905054       0.000000       0.000000       0.000000   \n",
       "3        0.000000   77023.205515       0.000000       0.000000   59221.237624   \n",
       "4        0.000000       0.000000       0.000000   59221.237624       0.000000   \n",
       "5        0.000000       0.000000       0.000000       0.000000  229573.061036   \n",
       "6        0.000000       0.000000       0.000000  209829.283571       0.000000   \n",
       "7        0.000000       0.000000       0.000000       0.000000       0.000000   \n",
       "8        0.000000  212184.634954       0.000000       0.000000   78875.765476   \n",
       "9        0.000000       0.000000       0.000000       0.000000       0.000000   \n",
       "10       0.000000       0.000000       0.000000       0.000000       0.000000   \n",
       "11       0.000000       0.000000       0.000000  197724.823449       0.000000   \n",
       "12       0.000000       0.000000       0.000000       0.000000       0.000000   \n",
       "13       0.000000       0.000000       0.000000       0.000000       0.000000   \n",
       "14       0.000000       0.000000       0.000000       0.000000       0.000000   \n",
       "15       0.000000       0.000000       0.000000       0.000000       0.000000   \n",
       "16       0.000000       0.000000       0.000000  481532.029448       0.000000   \n",
       "17       0.000000       0.000000       0.000000       0.000000       0.000000   \n",
       "18       0.000000       0.000000       0.000000       0.000000       0.000000   \n",
       "19       0.000000       0.000000       0.000000       0.000000       0.000000   \n",
       "20       0.000000       0.000000       0.000000       0.000000       0.000000   \n",
       "21       0.000000       0.000000       0.000000       0.000000       0.000000   \n",
       "22       0.000000       0.000000       0.000000       0.000000       0.000000   \n",
       "23       0.000000       0.000000       0.000000  521722.378126       0.000000   \n",
       "24       0.000000       0.000000       0.000000       0.000000       0.000000   \n",
       "25       0.000000       0.000000       0.000000       0.000000       0.000000   \n",
       "26       0.000000       0.000000       0.000000       0.000000       0.000000   \n",
       "27       0.000000       0.000000       0.000000       0.000000       0.000000   \n",
       "28       0.000000       0.000000       0.000000       0.000000       0.000000   \n",
       "29       0.000000       0.000000       0.000000       0.000000       0.000000   \n",
       "30       0.000000       0.000000       0.000000       0.000000       0.000000   \n",
       "31       0.000000       0.000000       0.000000       0.000000       0.000000   \n",
       "32       0.000000       0.000000       0.000000       0.000000       0.000000   \n",
       "33       0.000000       0.000000       0.000000       0.000000       0.000000   \n",
       "34       0.000000       0.000000       0.000000       0.000000       0.000000   \n",
       "35       0.000000       0.000000  754350.825017       0.000000       0.000000   \n",
       "\n",
       "               5              6              7              8              9   \\\n",
       "0        0.000000       0.000000       0.000000   0.000000e+00       0.000000   \n",
       "1        0.000000       0.000000       0.000000   2.121846e+05       0.000000   \n",
       "2        0.000000       0.000000       0.000000   0.000000e+00       0.000000   \n",
       "3        0.000000  209829.283571       0.000000   0.000000e+00       0.000000   \n",
       "4   229573.061036       0.000000       0.000000   7.887577e+04       0.000000   \n",
       "5        0.000000       0.000000       0.000000   0.000000e+00       0.000000   \n",
       "6        0.000000       0.000000   60233.040080  4.681937e-310       0.000000   \n",
       "7        0.000000   60233.040080       0.000000   0.000000e+00       0.000000   \n",
       "8        0.000000       0.000000       0.000000   0.000000e+00   60201.680524   \n",
       "9        0.000000       0.000000       0.000000   6.020168e+04       0.000000   \n",
       "10       0.000000       0.000000       0.000000   4.705230e+04       0.000000   \n",
       "11       0.000000       0.000000  160346.896658   0.000000e+00       0.000000   \n",
       "12       0.000000       0.000000  229474.117593   0.000000e+00       0.000000   \n",
       "13       0.000000       0.000000       0.000000   0.000000e+00       0.000000   \n",
       "14       0.000000       0.000000       0.000000   0.000000e+00       0.000000   \n",
       "15       0.000000       0.000000       0.000000   0.000000e+00       0.000000   \n",
       "16       0.000000       0.000000       0.000000   0.000000e+00       0.000000   \n",
       "17       0.000000       0.000000       0.000000   0.000000e+00       0.000000   \n",
       "18       0.000000       0.000000  428808.998603   0.000000e+00       0.000000   \n",
       "19       0.000000       0.000000       0.000000   0.000000e+00       0.000000   \n",
       "20       0.000000       0.000000       0.000000   0.000000e+00       0.000000   \n",
       "21       0.000000       0.000000       0.000000   0.000000e+00       0.000000   \n",
       "22       0.000000       0.000000       0.000000   0.000000e+00       0.000000   \n",
       "23       0.000000       0.000000       0.000000   0.000000e+00       0.000000   \n",
       "24       0.000000       0.000000       0.000000   0.000000e+00  469228.903618   \n",
       "25       0.000000       0.000000       0.000000   0.000000e+00       0.000000   \n",
       "26       0.000000       0.000000       0.000000   0.000000e+00       0.000000   \n",
       "27  717171.443391       0.000000       0.000000   0.000000e+00       0.000000   \n",
       "28       0.000000       0.000000       0.000000   0.000000e+00       0.000000   \n",
       "29       0.000000       0.000000       0.000000   0.000000e+00       0.000000   \n",
       "30       0.000000       0.000000       0.000000   0.000000e+00       0.000000   \n",
       "31       0.000000       0.000000       0.000000   0.000000e+00       0.000000   \n",
       "32       0.000000       0.000000       0.000000   0.000000e+00       0.000000   \n",
       "33       0.000000       0.000000       0.000000   0.000000e+00       0.000000   \n",
       "34       0.000000  438857.360116       0.000000   0.000000e+00       0.000000   \n",
       "35       0.000000       0.000000       0.000000   0.000000e+00       0.000000   \n",
       "\n",
       "    ...             26             27             28             29  \\\n",
       "0   ...       0.000000       0.000000   0.000000e+00       0.000000   \n",
       "1   ...       0.000000       0.000000   0.000000e+00       0.000000   \n",
       "2   ...       0.000000       0.000000   0.000000e+00       0.000000   \n",
       "3   ...       0.000000       0.000000  4.681937e-310       0.000000   \n",
       "4   ...       0.000000       0.000000   0.000000e+00       0.000000   \n",
       "5   ...       0.000000  717171.443391   0.000000e+00       0.000000   \n",
       "6   ...       0.000000       0.000000   0.000000e+00       0.000000   \n",
       "7   ...       0.000000       0.000000   0.000000e+00       0.000000   \n",
       "8   ...       0.000000       0.000000   0.000000e+00       0.000000   \n",
       "9   ...       0.000000       0.000000   0.000000e+00       0.000000   \n",
       "10  ...       0.000000       0.000000   0.000000e+00       0.000000   \n",
       "11  ...       0.000000       0.000000   0.000000e+00       0.000000   \n",
       "12  ...       0.000000       0.000000   4.543572e+05       0.000000   \n",
       "13  ...       0.000000       0.000000   0.000000e+00       0.000000   \n",
       "14  ...       0.000000       0.000000   0.000000e+00       0.000000   \n",
       "15  ...       0.000000       0.000000   0.000000e+00       0.000000   \n",
       "16  ...       0.000000       0.000000   0.000000e+00       0.000000   \n",
       "17  ...       0.000000       0.000000   3.479949e+05       0.000000   \n",
       "18  ...       0.000000       0.000000   0.000000e+00       0.000000   \n",
       "19  ...       0.000000       0.000000   0.000000e+00       0.000000   \n",
       "20  ...       0.000000       0.000000   0.000000e+00       0.000000   \n",
       "21  ...       0.000000       0.000000   0.000000e+00       0.000000   \n",
       "22  ...       0.000000  550067.258170   0.000000e+00       0.000000   \n",
       "23  ...       0.000000       0.000000   0.000000e+00       0.000000   \n",
       "24  ...       0.000000       0.000000   0.000000e+00       0.000000   \n",
       "25  ...       0.000000       0.000000   0.000000e+00       0.000000   \n",
       "26  ...       0.000000       0.000000   0.000000e+00       0.000000   \n",
       "27  ...       0.000000       0.000000   0.000000e+00       0.000000   \n",
       "28  ...       0.000000       0.000000   0.000000e+00       0.000000   \n",
       "29  ...       0.000000       0.000000   0.000000e+00       0.000000   \n",
       "30  ...  519778.464617       0.000000   0.000000e+00       0.000000   \n",
       "31  ...       0.000000       0.000000   0.000000e+00   48920.897655   \n",
       "32  ...       0.000000       0.000000   0.000000e+00       0.000000   \n",
       "33  ...       0.000000       0.000000   0.000000e+00  152191.408191   \n",
       "34  ...       0.000000       0.000000   0.000000e+00       0.000000   \n",
       "35  ...       0.000000  282738.366831   0.000000e+00       0.000000   \n",
       "\n",
       "               30             31             32             33             34  \\\n",
       "0        0.000000       0.000000       0.000000       0.000000       0.000000   \n",
       "1        0.000000       0.000000       0.000000       0.000000       0.000000   \n",
       "2        0.000000       0.000000       0.000000       0.000000       0.000000   \n",
       "3        0.000000       0.000000       0.000000       0.000000       0.000000   \n",
       "4        0.000000       0.000000       0.000000       0.000000       0.000000   \n",
       "5        0.000000       0.000000       0.000000       0.000000       0.000000   \n",
       "6        0.000000       0.000000       0.000000       0.000000  438857.360116   \n",
       "7        0.000000       0.000000       0.000000       0.000000       0.000000   \n",
       "8        0.000000       0.000000       0.000000       0.000000       0.000000   \n",
       "9        0.000000       0.000000       0.000000       0.000000       0.000000   \n",
       "10       0.000000  499627.815285       0.000000       0.000000       0.000000   \n",
       "11       0.000000       0.000000       0.000000       0.000000       0.000000   \n",
       "12       0.000000       0.000000       0.000000       0.000000       0.000000   \n",
       "13       0.000000       0.000000       0.000000       0.000000  723080.257010   \n",
       "14       0.000000       0.000000       0.000000       0.000000       0.000000   \n",
       "15       0.000000       0.000000       0.000000       0.000000       0.000000   \n",
       "16       0.000000       0.000000       0.000000       0.000000       0.000000   \n",
       "17       0.000000  450637.112323       0.000000       0.000000       0.000000   \n",
       "18       0.000000       0.000000       0.000000       0.000000       0.000000   \n",
       "19       0.000000       0.000000       0.000000       0.000000       0.000000   \n",
       "20       0.000000       0.000000       0.000000       0.000000       0.000000   \n",
       "21       0.000000       0.000000       0.000000       0.000000       0.000000   \n",
       "22       0.000000       0.000000       0.000000       0.000000       0.000000   \n",
       "23       0.000000       0.000000  587566.543136       0.000000       0.000000   \n",
       "24       0.000000       0.000000       0.000000       0.000000       0.000000   \n",
       "25       0.000000       0.000000       0.000000       0.000000       0.000000   \n",
       "26  519778.464617       0.000000       0.000000       0.000000       0.000000   \n",
       "27       0.000000       0.000000       0.000000       0.000000       0.000000   \n",
       "28       0.000000       0.000000       0.000000       0.000000       0.000000   \n",
       "29       0.000000   48920.897655       0.000000  152191.408191       0.000000   \n",
       "30       0.000000       0.000000       0.000000       0.000000       0.000000   \n",
       "31       0.000000       0.000000       0.000000       0.000000       0.000000   \n",
       "32       0.000000       0.000000       0.000000       0.000000       0.000000   \n",
       "33       0.000000       0.000000       0.000000       0.000000       0.000000   \n",
       "34       0.000000       0.000000       0.000000       0.000000       0.000000   \n",
       "35       0.000000       0.000000       0.000000       0.000000       0.000000   \n",
       "\n",
       "               35  \n",
       "0        0.000000  \n",
       "1        0.000000  \n",
       "2   754350.825017  \n",
       "3        0.000000  \n",
       "4        0.000000  \n",
       "5        0.000000  \n",
       "6        0.000000  \n",
       "7        0.000000  \n",
       "8        0.000000  \n",
       "9        0.000000  \n",
       "10       0.000000  \n",
       "11       0.000000  \n",
       "12       0.000000  \n",
       "13       0.000000  \n",
       "14  497026.547159  \n",
       "15       0.000000  \n",
       "16       0.000000  \n",
       "17       0.000000  \n",
       "18       0.000000  \n",
       "19       0.000000  \n",
       "20  797809.426392  \n",
       "21       0.000000  \n",
       "22       0.000000  \n",
       "23       0.000000  \n",
       "24       0.000000  \n",
       "25       0.000000  \n",
       "26       0.000000  \n",
       "27  282738.366831  \n",
       "28       0.000000  \n",
       "29       0.000000  \n",
       "30       0.000000  \n",
       "31       0.000000  \n",
       "32       0.000000  \n",
       "33       0.000000  \n",
       "34       0.000000  \n",
       "35       0.000000  \n",
       "\n",
       "[36 rows x 36 columns]"
      ]
     },
     "execution_count": 72,
     "metadata": {},
     "output_type": "execute_result"
    }
   ],
   "source": [
    "df"
   ]
  },
  {
   "cell_type": "code",
   "execution_count": null,
   "metadata": {
    "id": "C1O858bjWYLA"
   },
   "outputs": [],
   "source": [
    "df.to_csv('/content/Distance_matrix.csv')"
   ]
  },
  {
   "cell_type": "code",
   "execution_count": null,
   "metadata": {
    "colab": {
     "base_uri": "https://localhost:8080/"
    },
    "id": "d3RPa8zkhK3I",
    "outputId": "aaf3d39a-d632-4494-e0b8-23d35b704128"
   },
   "outputs": [
    {
     "data": {
      "text/plain": [
       "(36, 36)"
      ]
     },
     "execution_count": 87,
     "metadata": {},
     "output_type": "execute_result"
    }
   ],
   "source": [
    "df.shape"
   ]
  },
  {
   "cell_type": "code",
   "execution_count": null,
   "metadata": {
    "colab": {
     "base_uri": "https://localhost:8080/",
     "height": 319
    },
    "id": "ZRaW5mwMaapD",
    "outputId": "41d068e1-019b-4e40-d04e-27acb2a4aafa"
   },
   "outputs": [
    {
     "data": {
      "image/png": "[encoded data removed]",
      "text/plain": [
       "<Figure size 432x288 with 1 Axes>"
      ]
     },
     "metadata": {},
     "output_type": "display_data"
    }
   ],
   "source": [
    "K=nx.from_numpy_matrix(out_num)\n",
    "nx.draw(K)\n",
    "L=K.edges"
   ]
  },
  {
   "cell_type": "code",
   "execution_count": null,
   "metadata": {
    "id": "FOTFkK847pi0"
   },
   "outputs": [],
   "source": [
    "import numpy as np\n",
    "d=np.array(df)\n"
   ]
  },
  {
   "cell_type": "code",
   "execution_count": null,
   "metadata": {
    "colab": {
     "base_uri": "https://localhost:8080/"
    },
    "id": "AnaspXxe7xr5",
    "outputId": "35192b8f-baa7-49dc-e838-c96e1babf861"
   },
   "outputs": [
    {
     "name": "stdout",
     "output_type": "stream",
     "text": [
      "  (1, 0)\t154137.6553392075\n",
      "  (1, 2)\t67994.90505441865\n",
      "  (3, 1)\t77023.20551527764\n",
      "  (3, 11)\t197724.82344949164\n",
      "  (3, 23)\t521722.37812609744\n",
      "  (4, 3)\t59221.237624182526\n",
      "  (5, 4)\t229573.061035997\n",
      "  (5, 27)\t717171.4433914471\n",
      "  (7, 6)\t60233.04008006202\n",
      "  (7, 12)\t229474.11759316214\n",
      "  (7, 18)\t428808.99860277626\n",
      "  (8, 4)\t78875.76547624789\n",
      "  (8, 10)\t47052.30131968506\n",
      "  (9, 8)\t60201.680524075055\n",
      "  (10, 19)\t396074.16236771166\n",
      "  (11, 7)\t160346.89665775263\n",
      "  (11, 15)\t201000.2311356585\n",
      "  (12, 28)\t454357.1749356038\n",
      "  (14, 21)\t434203.1971814469\n",
      "  (17, 31)\t450637.1123227756\n",
      "  (18, 16)\t159752.3501470823\n",
      "  (20, 22)\t67321.32589815998\n",
      "  (22, 27)\t550067.2581702002\n",
      "  (23, 32)\t587566.5431361141\n",
      "  (24, 17)\t124713.65435733258\n",
      "  (27, 35)\t282738.3668307385\n",
      "  (28, 17)\t347994.86179379455\n",
      "  (29, 31)\t48920.897654520995\n",
      "  (29, 33)\t152191.40819128713\n",
      "  (30, 26)\t519778.46461693116\n",
      "  (34, 6)\t438857.3601160231\n",
      "  (34, 13)\t723080.2570103526\n",
      "  (35, 14)\t497026.5471587883\n"
     ]
    }
   ],
   "source": [
    "from scipy.sparse.csgraph import minimum_spanning_tree\n",
    "tree=minimum_spanning_tree(d)\n",
    "print(tree)"
   ]
  },
  {
   "cell_type": "code",
   "execution_count": null,
   "metadata": {
    "colab": {
     "base_uri": "https://localhost:8080/"
    },
    "id": "V01oCA059sEX",
    "outputId": "4f0f1366-fd6f-4d6f-c6eb-e6c02bf14185"
   },
   "outputs": [
    {
     "data": {
      "text/plain": [
       "scipy.sparse.csr.csr_matrix"
      ]
     },
     "execution_count": 123,
     "metadata": {},
     "output_type": "execute_result"
    }
   ],
   "source": [
    "type(tree)"
   ]
  },
  {
   "cell_type": "code",
   "execution_count": null,
   "metadata": {
    "colab": {
     "base_uri": "https://localhost:8080/"
    },
    "id": "cwtcqVIN8Cu6",
    "outputId": "0e051ede-19e7-4dd9-9130-1aa25dcd1d3a"
   },
   "outputs": [
    {
     "name": "stdout",
     "output_type": "stream",
     "text": [
      "[[     0.              0.              0.         ...      0.\n",
      "       0.              0.        ]\n",
      " [154137.65533921      0.          67994.90505442 ...      0.\n",
      "       0.              0.        ]\n",
      " [     0.              0.              0.         ...      0.\n",
      "       0.              0.        ]\n",
      " ...\n",
      " [     0.              0.              0.         ...      0.\n",
      "       0.              0.        ]\n",
      " [     0.              0.              0.         ...      0.\n",
      "       0.              0.        ]\n",
      " [     0.              0.              0.         ...      0.\n",
      "       0.              0.        ]]\n"
     ]
    }
   ],
   "source": [
    "print(tree.toarray())"
   ]
  },
  {
   "cell_type": "code",
   "execution_count": null,
   "metadata": {
    "id": "Z8VYud2R9jnc"
   },
   "outputs": [],
   "source": [
    "import scipy as sp\n",
    "import scipy.sparse  # call as sp.sparse\n",
    "G = nx.from_scipy_sparse_matrix(tree)"
   ]
  },
  {
   "cell_type": "code",
   "execution_count": null,
   "metadata": {
    "colab": {
     "base_uri": "https://localhost:8080/"
    },
    "id": "aRzUCHZ2-42K",
    "outputId": "eb0c8a72-0e6a-40a6-bd9d-ee8c608fe6a6"
   },
   "outputs": [
    {
     "data": {
      "text/plain": [
       "networkx.classes.graph.Graph"
      ]
     },
     "execution_count": 129,
     "metadata": {},
     "output_type": "execute_result"
    }
   ],
   "source": [
    "type(G)"
   ]
  },
  {
   "cell_type": "code",
   "execution_count": null,
   "metadata": {
    "colab": {
     "base_uri": "https://localhost:8080/"
    },
    "id": "GeV17rGo_z-g",
    "outputId": "2a7316f4-3c40-427a-db2c-4bc0193e0abf"
   },
   "outputs": [
    {
     "name": "stdout",
     "output_type": "stream",
     "text": [
      "Graph with 36 nodes and 33 edges\n"
     ]
    }
   ],
   "source": [
    "print(G)"
   ]
  }
 ],
 "metadata": {
  "colab": {
   "collapsed_sections": [],
   "name": "Network data",
   "provenance": []
  },
  "kernelspec": {
   "display_name": "Python 3 (ipykernel)",
   "language": "python",
   "name": "python3"
  },
  "language_info": {
   "codemirror_mode": {
    "name": "ipython",
    "version": 3
   },
   "file_extension": ".py",
   "mimetype": "text/x-python",
   "name": "python",
   "nbconvert_exporter": "python",
   "pygments_lexer": "ipython3",
   "version": "3.9.15"
  }
 },
 "nbformat": 4,
 "nbformat_minor": 1
}
