{
 "cells": [
  {
   "cell_type": "markdown",
   "metadata": {},
   "source": [
    "# Point in polygon analysis"
   ]
  },
  {
   "cell_type": "code",
   "execution_count": null,
   "metadata": {},
   "outputs": [],
   "source": [
    "import geopandas as gpd\n",
    "import pandas as pd\n",
    "from shapely.geometry import Point, Polygon\n",
    "import matplotlib.pyplot as plt\n",
    "from geopandas import GeoSeries,GeoDataFrame\n",
    "#Reading point layer\n",
    "eq =r\"C:\\Users\\Shalini MS\\Downloads\\Earthquake\\earthquakes1970-2014.shp\"\n",
    "df = gpd.read_file(eq)\n",
    "g1=df['geometry']\n",
    "print(g1.head())\n",
    "#Reading polygon layer\n",
    "world=gpd.read_file(r\"C:\\Users\\ShaliniMS\\Downloads\\lab7\\ne_10m_admin_0_countries.shp\")\n",
    "g2=world['geometry']\n",
    "print(g2.head())\n",
    "#Coordinate reference system\n",
    "print(world.crs)\n",
    "print(df.crs)"
   ]
  },
  {
   "cell_type": "markdown",
   "metadata": {},
   "source": [
    "# Plotting shapefiles"
   ]
  },
  {
   "cell_type": "code",
   "execution_count": null,
   "metadata": {},
   "outputs": [],
   "source": [
    "fig , ax = plt.subplots(1,1)\n",
    "# plot your background shapefile\n",
    "g2.plot(ax=ax)\n",
    "# plot your foreground shapefile\n",
    "g1.plot(ax=ax, color='red', edgecolor='b' )"
   ]
  },
  {
   "cell_type": "markdown",
   "metadata": {},
   "source": [
    "# Joining shapefiles to get number of points in polygons"
   ]
  },
  {
   "cell_type": "code",
   "execution_count": null,
   "metadata": {},
   "outputs": [],
   "source": [
    "join = gpd.sjoin(df,world, how=\"inner\", op=\"within\")\n",
    "join.head()\n",
    "join[\"SOVEREIGNT\"].value_counts().head\n",
    "join.shape"
   ]
  },
  {
   "cell_type": "markdown",
   "metadata": {},
   "source": [
    "# To check whether point lie within the polygon or not"
   ]
  },
  {
   "cell_type": "code",
   "execution_count": null,
   "metadata": {},
   "outputs": [],
   "source": [
    "pip_mask = g1.within(join.loc[0, 'geometry'])\n",
    "print(pip_mask)"
   ]
  },
  {
   "cell_type": "markdown",
   "metadata": {},
   "source": [
    "# Largest number of earthquake is:"
   ]
  },
  {
   "cell_type": "code",
   "execution_count": null,
   "metadata": {},
   "outputs": [],
   "source": [
    "print(p()[0])"
   ]
  },
  {
   "cell_type": "markdown",
   "metadata": {},
   "source": [
    "# Colour coding the country"
   ]
  },
  {
   "cell_type": "code",
   "execution_count": null,
   "metadata": {},
   "outputs": [],
   "source": [
    "world.plot(column=\"ECONOMY\", cmap=\"rainbow\",scheme=\"equalinterval\",k=10,alpha=1)"
   ]
  },
  {
   "cell_type": "code",
   "execution_count": null,
   "metadata": {},
   "outputs": [],
   "source": []
  }
 ],
 "metadata": {
  "kernelspec": {
   "display_name": "Python 3",
   "language": "python",
   "name": "python3"
  },
  "language_info": {
   "codemirror_mode": {
    "name": "ipython",
    "version": 3
   },
   "file_extension": ".py",
   "mimetype": "text/x-python",
   "name": "python",
   "nbconvert_exporter": "python",
   "pygments_lexer": "ipython3",
   "version": "3.7.3"
  }
 },
 "nbformat": 4,
 "nbformat_minor": 2
}
