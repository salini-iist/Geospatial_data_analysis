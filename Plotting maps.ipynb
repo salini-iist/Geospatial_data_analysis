{
 "cells": [
  {
   "cell_type": "markdown",
   "metadata": {},
   "source": [
    "# Aim: To create beautiful maps in Python : Cartography"
   ]
  },
  {
   "cell_type": "markdown",
   "metadata": {},
   "source": [
    "# 1) Static maps"
   ]
  },
  {
   "cell_type": "markdown",
   "metadata": {},
   "source": [
    "Read the data: Country, railroad airport\n",
    "Code:"
   ]
  },
  {
   "cell_type": "code",
   "execution_count": null,
   "metadata": {},
   "outputs": [],
   "source": [
    "import geopandas as gpd\n",
    "import matplotlib.pyplot as plt\n",
    "# Filepaths\n",
    "c = r\"C:\\Users\\Shalini MS\\Downloads\\lab8 (1)\\countries.shp\"\n",
    "r =r\"C:\\Users\\Shalini MS\\Downloads\\lab8 (1)\\railroads.shp\"\n",
    "a = r\"C:\\Users\\Shalini MS\\Downloads\\lab8 (1)\\ports.shp\"\n",
    "# Read files\n",
    "country= gpd.read_file(c)\n",
    "railroad = gpd.read_file(r)\n",
    "airport = gpd.read_file(a)\n",
    "country.plot()\n",
    "railroad.plot()\n",
    "airport.plot()\n",
    "#checking crs is same\n",
    "country.crs == railroad.crs\n",
    "railroad.crs == airport.crs"
   ]
  },
  {
   "cell_type": "code",
   "execution_count": null,
   "metadata": {},
   "outputs": [],
   "source": [
    "#plotting static maps with layers\n",
    "my_map = country.plot(column=\"ECONOMY\", linewidth=0.03, cmap=\"jet\",\n",
    "scheme=\"quantiles\", k=10, alpha=0.9)\n",
    "# Add railroads on top of the country\n",
    "# (use ax parameter to define the map on top of which the second items are plotted)\n",
    "railroad.plot(ax=my_map, color=\"blue\", linewidth=2.5)\n",
    "# Add airport on top of the previous map\n",
    "airport.plot(ax=\n",
    "plt.title(\"Static map using scheme quantiles\")\n",
    "# Remove the empty white-space around the axes\n",
    "plt.tight_layout()\n",
    "To save map:\n",
    "Outfp = r\"C:\\Users\\Shalini MS\\Downloads\\staticmap.png”\n",
    "my_map.to_file(Outfp,dpi=300)"
   ]
  },
  {
   "cell_type": "markdown",
   "metadata": {},
   "source": [
    "# 2. Interactive map using folium\n",
    "Create an interactive map with zoom out and zoom in for the same using folium"
   ]
  },
  {
   "cell_type": "code",
   "execution_count": null,
   "metadata": {},
   "outputs": [],
   "source": [
    "import folium\n",
    "m=folium.Map(location=[10.5276,76.2144])\n",
    "m"
   ]
  },
  {
   "cell_type": "code",
   "execution_count": null,
   "metadata": {},
   "outputs": [],
   "source": [
    "# Restricting zoom:\n",
    "# Code:\n",
    "from branca.element import Figure\n",
    "fig=Figure(width=550,height=350)\n",
    "m1=folium.Map(width=550,height=350,location=[10.5276,76.2144],zoom_start=11,min_\n",
    "zoom=8,max_zoom=14)\n",
    "fig.add_child(m1)\n",
    "m1\n"
   ]
  }
 ],
 "metadata": {
  "kernelspec": {
   "display_name": "Python 3",
   "language": "python",
   "name": "python3"
  },
  "language_info": {
   "codemirror_mode": {
    "name": "ipython",
    "version": 3
   },
   "file_extension": ".py",
   "mimetype": "text/x-python",
   "name": "python",
   "nbconvert_exporter": "python",
   "pygments_lexer": "ipython3",
   "version": "3.7.3"
  }
 },
 "nbformat": 4,
 "nbformat_minor": 2
}
